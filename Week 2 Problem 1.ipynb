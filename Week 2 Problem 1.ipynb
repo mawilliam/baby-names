{
 "cells": [
  {
   "cell_type": "markdown",
   "metadata": {
    "nbgrader": {
     "grade": false,
     "grade_id": "cell-1c5ea0d8c44db98d",
     "locked": true,
     "schema_version": 3,
     "solution": false,
     "task": false
    }
   },
   "source": [
    "## Objectives\n",
    "1. Use the `iloc` and `loc` operators to access slices of the rows and columns of a DataFrame\n",
    "2. Use Boolean expressions to select rows of a DataFrame based on one or more conditions\n",
    "3. Combine multiple data manipulation steps to answer a question using data\n",
    "\n",
    "## Exercises\n",
    "In this lab, you will use the Baby Names dataset that *Data.gov* releases each year to practice working with data using Pandas. The dataset contains the total number of babies born with a given first name and gender each year from 1880 through 2018. The file size is fairly large, so you will not be able to open the full dataset in Excel. The first five lines out of nearly two million are:\n",
    "```\n",
    "Id,Name,Year,Gender,Count\n",
    "1,Mary,1880,F,7065\n",
    "2,Anna,1880,F,2604\n",
    "3,Emma,1880,F,2003\n",
    "4,Elizabeth,1880,F,1939\n",
    "```\n",
    "\n",
    "Fortunately, this dataset is already in a tidy form so we will not need to reshape it to begin. Each row represents a unique instance of a name-gender-year combination. In addition to those columns, the Count column represents the number of babies born for that name-gender-year instance.\n",
    "\n",
    "*Note: to protect individual's privacy, Data.gov does not publish names with fewer than five births for that given name.*"
   ]
  },
  {
   "cell_type": "markdown",
   "metadata": {
    "nbgrader": {
     "grade": false,
     "grade_id": "cell-ccf231ff1bc6adf8",
     "locked": true,
     "schema_version": 3,
     "solution": false,
     "task": false
    }
   },
   "source": [
    "### Load the Libraries\n",
    "Run the following code cell to import each of the libraries that we will use in the lab."
   ]
  },
  {
   "cell_type": "code",
   "execution_count": 1,
   "metadata": {},
   "outputs": [],
   "source": [
    "import pandas as pd\n",
    "import matplotlib.pyplot as plt\n",
    "import seaborn as sns"
   ]
  },
  {
   "cell_type": "markdown",
   "metadata": {
    "nbgrader": {
     "grade": false,
     "grade_id": "cell-e3e249ea301689a7",
     "locked": true,
     "schema_version": 3,
     "solution": false,
     "task": false
    }
   },
   "source": [
    "### 1. Explore the Data\n",
    "In the next several exercises, you will use Pandas attributes and methods to become familiar with the data.\n",
    "\n",
    "**Note: Jupyter Notebook formats the output of Pandas objects nicely. As such, you should NOT use the `print` function unless specifically instructed. Furthermore, we will explicitly define what variable name you should assign a result if we will continue to use it; otherwise, you may assume that the output is not required for future computations and is meant only for us to be able to inspect and explore.**\n",
    "\n",
    "**Q1.1.** In the below cell, read the 'babynames.csv' file to a `DataFrame` named `names`. Specify the `Id` column as the index. Inspect the first five lines."
   ]
  },
  {
   "cell_type": "code",
   "execution_count": 2,
   "metadata": {
    "nbgrader": {
     "grade": false,
     "grade_id": "explore1",
     "locked": false,
     "schema_version": 3,
     "solution": true,
     "task": false
    }
   },
   "outputs": [
    {
     "name": "stderr",
     "output_type": "stream",
     "text": [
      "C:\\Users\\DFCS-Dell1\\Anaconda3\\lib\\site-packages\\numpy\\lib\\arraysetops.py:569: FutureWarning: elementwise comparison failed; returning scalar instead, but in the future will perform elementwise comparison\n",
      "  mask |= (ar1 == a)\n"
     ]
    },
    {
     "data": {
      "text/html": [
       "<div>\n",
       "<style scoped>\n",
       "    .dataframe tbody tr th:only-of-type {\n",
       "        vertical-align: middle;\n",
       "    }\n",
       "\n",
       "    .dataframe tbody tr th {\n",
       "        vertical-align: top;\n",
       "    }\n",
       "\n",
       "    .dataframe thead th {\n",
       "        text-align: right;\n",
       "    }\n",
       "</style>\n",
       "<table border=\"1\" class=\"dataframe\">\n",
       "  <thead>\n",
       "    <tr style=\"text-align: right;\">\n",
       "      <th></th>\n",
       "      <th>Name</th>\n",
       "      <th>Year</th>\n",
       "      <th>Gender</th>\n",
       "      <th>Count</th>\n",
       "    </tr>\n",
       "    <tr>\n",
       "      <th>Id</th>\n",
       "      <th></th>\n",
       "      <th></th>\n",
       "      <th></th>\n",
       "      <th></th>\n",
       "    </tr>\n",
       "  </thead>\n",
       "  <tbody>\n",
       "    <tr>\n",
       "      <th>1</th>\n",
       "      <td>Mary</td>\n",
       "      <td>1880</td>\n",
       "      <td>F</td>\n",
       "      <td>7065</td>\n",
       "    </tr>\n",
       "    <tr>\n",
       "      <th>2</th>\n",
       "      <td>Anna</td>\n",
       "      <td>1880</td>\n",
       "      <td>F</td>\n",
       "      <td>2604</td>\n",
       "    </tr>\n",
       "    <tr>\n",
       "      <th>3</th>\n",
       "      <td>Emma</td>\n",
       "      <td>1880</td>\n",
       "      <td>F</td>\n",
       "      <td>2003</td>\n",
       "    </tr>\n",
       "    <tr>\n",
       "      <th>4</th>\n",
       "      <td>Elizabeth</td>\n",
       "      <td>1880</td>\n",
       "      <td>F</td>\n",
       "      <td>1939</td>\n",
       "    </tr>\n",
       "    <tr>\n",
       "      <th>5</th>\n",
       "      <td>Minnie</td>\n",
       "      <td>1880</td>\n",
       "      <td>F</td>\n",
       "      <td>1746</td>\n",
       "    </tr>\n",
       "  </tbody>\n",
       "</table>\n",
       "</div>"
      ],
      "text/plain": [
       "         Name  Year Gender  Count\n",
       "Id                               \n",
       "1        Mary  1880      F   7065\n",
       "2        Anna  1880      F   2604\n",
       "3        Emma  1880      F   2003\n",
       "4   Elizabeth  1880      F   1939\n",
       "5      Minnie  1880      F   1746"
      ]
     },
     "execution_count": 2,
     "metadata": {},
     "output_type": "execute_result"
    }
   ],
   "source": [
    "### BEGIN SOLUTION\n",
    "names = pd.read_csv('babynames.csv', index_col = 0)\n",
    "names.head()\n",
    "### END SOLUTION"
   ]
  },
  {
   "cell_type": "code",
   "execution_count": 3,
   "metadata": {
    "nbgrader": {
     "grade": true,
     "grade_id": "explore1_test",
     "locked": true,
     "points": 1,
     "schema_version": 3,
     "solution": false,
     "task": false
    }
   },
   "outputs": [],
   "source": [
    "# DO NOT EDIT - this cell is blank for autograding purposes\n",
    "### BEGIN HIDDEN TESTS\n",
    "test_df = pd.read_csv('babynames.csv', index_col = 0)\n",
    "if names is None:\n",
    "    raise NameError(\"Did not name your DataFrame correctly\")\n",
    "else:\n",
    "    pd.testing.assert_frame_equal(_, test_df.head())\n",
    "    pd.testing.assert_frame_equal(names.tail(), test_df.tail())\n",
    "### END HIDDEN TESTS"
   ]
  },
  {
   "cell_type": "markdown",
   "metadata": {
    "nbgrader": {
     "grade": false,
     "grade_id": "cell-829fdb6639c797a2",
     "locked": true,
     "schema_version": 3,
     "solution": false,
     "task": false
    }
   },
   "source": [
    "**Q1.2.** Output information regarding the DataFrame attributes using the `info` method."
   ]
  },
  {
   "cell_type": "code",
   "execution_count": 4,
   "metadata": {
    "nbgrader": {
     "grade": false,
     "grade_id": "explore2",
     "locked": false,
     "schema_version": 3,
     "solution": true,
     "task": false
    }
   },
   "outputs": [
    {
     "name": "stdout",
     "output_type": "stream",
     "text": [
      "<class 'pandas.core.frame.DataFrame'>\n",
      "Int64Index: 1956187 entries, 1 to 1956187\n",
      "Data columns (total 4 columns):\n",
      " #   Column  Dtype \n",
      "---  ------  ----- \n",
      " 0   Name    object\n",
      " 1   Year    int64 \n",
      " 2   Gender  object\n",
      " 3   Count   int64 \n",
      "dtypes: int64(2), object(2)\n",
      "memory usage: 74.6+ MB\n"
     ]
    }
   ],
   "source": [
    "### BEGIN SOLUTION\n",
    "names.info()\n",
    "### END SOLUTION"
   ]
  },
  {
   "cell_type": "code",
   "execution_count": 5,
   "metadata": {
    "nbgrader": {
     "grade": true,
     "grade_id": "explore2_test",
     "locked": true,
     "points": 1,
     "schema_version": 3,
     "solution": false,
     "task": false
    }
   },
   "outputs": [],
   "source": [
    "# DO NOT EDIT - this cell is blank for autograding purposes\n",
    "### BEGIN HIDDEN TESTS\n",
    "assert '.info()' in In[-2]\n",
    "### END HIDDEN TESTS"
   ]
  },
  {
   "cell_type": "markdown",
   "metadata": {
    "nbgrader": {
     "grade": false,
     "grade_id": "cell-811aa21f260c19bb",
     "locked": true,
     "schema_version": 3,
     "solution": false,
     "task": false
    }
   },
   "source": [
    "**Q1.3.** Determine the number of observations for each gender. You can determine this by calling the `value_counts` method on the `Gender` column."
   ]
  },
  {
   "cell_type": "code",
   "execution_count": 6,
   "metadata": {
    "nbgrader": {
     "grade": false,
     "grade_id": "explore3",
     "locked": false,
     "schema_version": 3,
     "solution": true,
     "task": false
    }
   },
   "outputs": [
    {
     "data": {
      "text/plain": [
       "F    1156014\n",
       "M     800173\n",
       "Name: Gender, dtype: int64"
      ]
     },
     "execution_count": 6,
     "metadata": {},
     "output_type": "execute_result"
    }
   ],
   "source": [
    "### BEGIN SOLUTION\n",
    "names.Gender.value_counts()\n",
    "### END SOLUTION"
   ]
  },
  {
   "cell_type": "code",
   "execution_count": 7,
   "metadata": {
    "nbgrader": {
     "grade": true,
     "grade_id": "explore3_test",
     "locked": true,
     "points": 1,
     "schema_version": 3,
     "solution": false,
     "task": false
    }
   },
   "outputs": [],
   "source": [
    "# DO NOT EDIT - this cell is blank for autograding purposes\n",
    "### BEGIN HIDDEN TESTS\n",
    "pd.testing.assert_series_equal(_, test_df.Gender.value_counts())\n",
    "### END HIDDEN TESTS"
   ]
  },
  {
   "cell_type": "markdown",
   "metadata": {
    "nbgrader": {
     "grade": false,
     "grade_id": "cell-1b49810c905deee3",
     "locked": true,
     "schema_version": 3,
     "solution": false,
     "task": false
    }
   },
   "source": [
    "Why do you think there are so many more female observations than male? Does that mean that there are that many more girls born than boys?\n",
    "\n",
    "**Q1.4.** Use the below Markdown cell to summarize what the difference in these numbers mean:"
   ]
  },
  {
   "cell_type": "markdown",
   "metadata": {
    "nbgrader": {
     "grade": true,
     "grade_id": "explore4",
     "locked": false,
     "points": 1,
     "schema_version": 3,
     "solution": true,
     "task": false
    }
   },
   "source": []
  },
  {
   "cell_type": "markdown",
   "metadata": {
    "nbgrader": {
     "grade": false,
     "grade_id": "cell-89aec0b7475620cf",
     "locked": true,
     "schema_version": 3,
     "solution": false,
     "task": false
    }
   },
   "source": [
    "One can use the `describe` method for Series or DataFrame objects and its behavior will change depending on the type of data.\n",
    "\n",
    "**Q1.5.** In the below cell, call the `describe` method on the entire DataFrame."
   ]
  },
  {
   "cell_type": "code",
   "execution_count": 8,
   "metadata": {
    "nbgrader": {
     "grade": false,
     "grade_id": "explore5",
     "locked": false,
     "schema_version": 3,
     "solution": true,
     "task": false
    }
   },
   "outputs": [
    {
     "data": {
      "text/html": [
       "<div>\n",
       "<style scoped>\n",
       "    .dataframe tbody tr th:only-of-type {\n",
       "        vertical-align: middle;\n",
       "    }\n",
       "\n",
       "    .dataframe tbody tr th {\n",
       "        vertical-align: top;\n",
       "    }\n",
       "\n",
       "    .dataframe thead th {\n",
       "        text-align: right;\n",
       "    }\n",
       "</style>\n",
       "<table border=\"1\" class=\"dataframe\">\n",
       "  <thead>\n",
       "    <tr style=\"text-align: right;\">\n",
       "      <th></th>\n",
       "      <th>Year</th>\n",
       "      <th>Count</th>\n",
       "    </tr>\n",
       "  </thead>\n",
       "  <tbody>\n",
       "    <tr>\n",
       "      <th>count</th>\n",
       "      <td>1.956187e+06</td>\n",
       "      <td>1.956187e+06</td>\n",
       "    </tr>\n",
       "    <tr>\n",
       "      <th>mean</th>\n",
       "      <td>1.975552e+03</td>\n",
       "      <td>1.797040e+02</td>\n",
       "    </tr>\n",
       "    <tr>\n",
       "      <th>std</th>\n",
       "      <td>3.419284e+01</td>\n",
       "      <td>1.522881e+03</td>\n",
       "    </tr>\n",
       "    <tr>\n",
       "      <th>min</th>\n",
       "      <td>1.880000e+03</td>\n",
       "      <td>5.000000e+00</td>\n",
       "    </tr>\n",
       "    <tr>\n",
       "      <th>25%</th>\n",
       "      <td>1.952000e+03</td>\n",
       "      <td>7.000000e+00</td>\n",
       "    </tr>\n",
       "    <tr>\n",
       "      <th>50%</th>\n",
       "      <td>1.985000e+03</td>\n",
       "      <td>1.200000e+01</td>\n",
       "    </tr>\n",
       "    <tr>\n",
       "      <th>75%</th>\n",
       "      <td>2.004000e+03</td>\n",
       "      <td>3.200000e+01</td>\n",
       "    </tr>\n",
       "    <tr>\n",
       "      <th>max</th>\n",
       "      <td>2.018000e+03</td>\n",
       "      <td>9.968000e+04</td>\n",
       "    </tr>\n",
       "  </tbody>\n",
       "</table>\n",
       "</div>"
      ],
      "text/plain": [
       "               Year         Count\n",
       "count  1.956187e+06  1.956187e+06\n",
       "mean   1.975552e+03  1.797040e+02\n",
       "std    3.419284e+01  1.522881e+03\n",
       "min    1.880000e+03  5.000000e+00\n",
       "25%    1.952000e+03  7.000000e+00\n",
       "50%    1.985000e+03  1.200000e+01\n",
       "75%    2.004000e+03  3.200000e+01\n",
       "max    2.018000e+03  9.968000e+04"
      ]
     },
     "execution_count": 8,
     "metadata": {},
     "output_type": "execute_result"
    }
   ],
   "source": [
    "### BEGIN SOLUTION\n",
    "names.describe()\n",
    "### END SOLUTION"
   ]
  },
  {
   "cell_type": "code",
   "execution_count": 9,
   "metadata": {
    "nbgrader": {
     "grade": true,
     "grade_id": "explore5_test",
     "locked": true,
     "points": 1,
     "schema_version": 3,
     "solution": false,
     "task": false
    }
   },
   "outputs": [],
   "source": [
    "# DO NOT EDIT - this cell is blank for autograding purposes\n",
    "### BEGIN HIDDEN TESTS\n",
    "pd.testing.assert_frame_equal(_, test_df.describe())\n",
    "### END HIDDEN TESTS"
   ]
  },
  {
   "cell_type": "markdown",
   "metadata": {
    "nbgrader": {
     "grade": false,
     "grade_id": "cell-11033101a6a38fa3",
     "locked": true,
     "schema_version": 3,
     "solution": false,
     "task": false
    }
   },
   "source": [
    "**Q1.6.** In the below cell, call the `describe` method on the `Name` column."
   ]
  },
  {
   "cell_type": "code",
   "execution_count": 10,
   "metadata": {
    "nbgrader": {
     "grade": false,
     "grade_id": "explore6",
     "locked": false,
     "schema_version": 3,
     "solution": true,
     "task": false
    }
   },
   "outputs": [
    {
     "data": {
      "text/plain": [
       "count     1956187\n",
       "unique      98328\n",
       "top        Sidney\n",
       "freq          278\n",
       "Name: Name, dtype: object"
      ]
     },
     "execution_count": 10,
     "metadata": {},
     "output_type": "execute_result"
    }
   ],
   "source": [
    "### BEGIN SOLUTION\n",
    "names.Name.describe()\n",
    "### END SOLUTION"
   ]
  },
  {
   "cell_type": "code",
   "execution_count": 11,
   "metadata": {
    "nbgrader": {
     "grade": true,
     "grade_id": "explore6_test",
     "locked": true,
     "points": 1,
     "schema_version": 3,
     "solution": false,
     "task": false
    }
   },
   "outputs": [],
   "source": [
    "# DO NOT EDIT - this cell is blank for autograding purposes\n",
    "### BEGIN HIDDEN TESTS\n",
    "pd.testing.assert_series_equal(_, test_df.Name.describe())\n",
    "### END HIDDEN TESTS"
   ]
  },
  {
   "cell_type": "markdown",
   "metadata": {
    "nbgrader": {
     "grade": false,
     "grade_id": "cell-e9c067dac3ec4878",
     "locked": true,
     "schema_version": 3,
     "solution": false,
     "task": false
    }
   },
   "source": [
    "The `describe` method returns summary statistics for a given DataFrame or Series. The statistics that it contains depends on the type of data in the DataFrame or Series.\n",
    "\n",
    "Looking at the output, does this mean John is the most popular name? We will explore this question later in the lab."
   ]
  },
  {
   "cell_type": "markdown",
   "metadata": {
    "nbgrader": {
     "grade": false,
     "grade_id": "cell-bb4d89955a14bd05",
     "locked": true,
     "schema_version": 3,
     "solution": false,
     "task": false
    }
   },
   "source": [
    "### 2. Indexing in Pandas\n",
    "#### `loc` and `iloc`\n",
    "The Kaggle lesson reviewed three different ways to access a subset of data within a DataFrame. The naive method is to use the `[]` indexing operator similar to lists or dictionaries. This can be convenient, but the more appropriate method is to use either the `loc` or `iloc` operators.\n",
    "\n",
    "**Q2.1.** In the below cell, use the `iloc` method to access the first row of data:"
   ]
  },
  {
   "cell_type": "code",
   "execution_count": 12,
   "metadata": {
    "nbgrader": {
     "grade": false,
     "grade_id": "subset1",
     "locked": false,
     "schema_version": 3,
     "solution": true,
     "task": false
    }
   },
   "outputs": [
    {
     "data": {
      "text/plain": [
       "Name      Mary\n",
       "Year      1880\n",
       "Gender       F\n",
       "Count     7065\n",
       "Name: 1, dtype: object"
      ]
     },
     "execution_count": 12,
     "metadata": {},
     "output_type": "execute_result"
    }
   ],
   "source": [
    "### BEGIN SOLUTION\n",
    "names.iloc[0]\n",
    "### END SOLUTION"
   ]
  },
  {
   "cell_type": "code",
   "execution_count": 13,
   "metadata": {
    "nbgrader": {
     "grade": true,
     "grade_id": "subset1_test",
     "locked": true,
     "points": 1,
     "schema_version": 3,
     "solution": false,
     "task": false
    }
   },
   "outputs": [],
   "source": [
    "# DO NOT EDIT - this cell is blank for autograding purposes\n",
    "### BEGIN HIDDEN TESTS\n",
    "pd.testing.assert_series_equal(_, test_df.iloc[0])\n",
    "### END HIDDEN TESTS"
   ]
  },
  {
   "cell_type": "markdown",
   "metadata": {
    "nbgrader": {
     "grade": false,
     "grade_id": "cell-6b894a82e22ca244",
     "locked": true,
     "schema_version": 3,
     "solution": false,
     "task": false
    }
   },
   "source": [
    "Take note that when there is only a single dimension (one row or one column) of data, Pandas will return a Series. It is important to know what type of object a statement will return so you know what attributes and methods are available to that object. It is also important to know whether a method modifies the object in-place or returns a new object. In the former, an assigment operator is not necessary while the latter requires an assignment if you are going to use the resulting object in the future.\n",
    "\n",
    "**Q2.2.** Again, use the `iloc` operator to output the value in the first row and column:"
   ]
  },
  {
   "cell_type": "code",
   "execution_count": 14,
   "metadata": {
    "nbgrader": {
     "grade": false,
     "grade_id": "subset2",
     "locked": false,
     "schema_version": 3,
     "solution": true,
     "task": false
    }
   },
   "outputs": [
    {
     "data": {
      "text/plain": [
       "'Mary'"
      ]
     },
     "execution_count": 14,
     "metadata": {},
     "output_type": "execute_result"
    }
   ],
   "source": [
    "### BEGIN SOLUTION\n",
    "names.iloc[0, 0]\n",
    "### END SOLUTION"
   ]
  },
  {
   "cell_type": "code",
   "execution_count": 15,
   "metadata": {
    "nbgrader": {
     "grade": true,
     "grade_id": "subset2_test",
     "locked": true,
     "points": 1,
     "schema_version": 3,
     "solution": false,
     "task": false
    }
   },
   "outputs": [],
   "source": [
    "# DO NOT EDIT - this cell is blank for autograding purposes\n",
    "### BEGIN HIDDEN TESTS\n",
    "assert _ == test_df.iloc[0,0]\n",
    "### END HIDDEN TESTS"
   ]
  },
  {
   "cell_type": "markdown",
   "metadata": {
    "nbgrader": {
     "grade": false,
     "grade_id": "cell-6a7d6566eff4e541",
     "locked": true,
     "schema_version": 3,
     "solution": false,
     "task": false
    }
   },
   "source": [
    "Using a list for both the rows and columns will force Pandas to return a DataFrame, even if the resulting object only has a single dimension or is a single value. The below table summarizes the resulting object type, but you should explore each statement for yourself:\n",
    "\n",
    "| Statement | Type |\n",
    "| :----: | :----: |\n",
    "| `names.iloc[0]` |  Series |\n",
    "| `names.iloc[:, 0]` | Series |\n",
    "| `names.iloc[[0]]` | DataFrame |\n",
    "| `names.iloc[0, 0]` | String |\n",
    "| `names.iloc[[0], 0]` | Series |\n",
    "| `names.iloc[[0], [0]]` | DataFrame |"
   ]
  },
  {
   "cell_type": "markdown",
   "metadata": {
    "nbgrader": {
     "grade": false,
     "grade_id": "cell-b24c6ba51422e27a",
     "locked": true,
     "schema_version": 3,
     "solution": false,
     "task": false
    }
   },
   "source": [
    "**Q2.3.** Use the `.loc` operator to access and output the `Count` column."
   ]
  },
  {
   "cell_type": "code",
   "execution_count": 16,
   "metadata": {
    "nbgrader": {
     "grade": false,
     "grade_id": "subset3",
     "locked": false,
     "schema_version": 3,
     "solution": true,
     "task": false
    }
   },
   "outputs": [
    {
     "data": {
      "text/plain": [
       "Id\n",
       "1          7065\n",
       "2          2604\n",
       "3          2003\n",
       "4          1939\n",
       "5          1746\n",
       "           ... \n",
       "1956183       5\n",
       "1956184       5\n",
       "1956185       5\n",
       "1956186       5\n",
       "1956187       5\n",
       "Name: Count, Length: 1956187, dtype: int64"
      ]
     },
     "execution_count": 16,
     "metadata": {},
     "output_type": "execute_result"
    }
   ],
   "source": [
    "### BEGIN SOLUTION\n",
    "names.loc[:, 'Count']\n",
    "### END SOLUTION"
   ]
  },
  {
   "cell_type": "code",
   "execution_count": 17,
   "metadata": {
    "nbgrader": {
     "grade": true,
     "grade_id": "subset3_test",
     "locked": true,
     "points": 1,
     "schema_version": 3,
     "solution": false,
     "task": false
    }
   },
   "outputs": [],
   "source": [
    "# DO NOT EDIT - this cell is blank for autograding purposes\n",
    "### BEGIN HIDDEN TESTS\n",
    "pd.testing.assert_series_equal(_, test_df.loc[:, 'Count'])\n",
    "### END HIDDEN TESTS"
   ]
  },
  {
   "cell_type": "markdown",
   "metadata": {
    "nbgrader": {
     "grade": false,
     "grade_id": "cell-eb2d151eaf22bb35",
     "locked": true,
     "schema_version": 3,
     "solution": false,
     "task": false
    }
   },
   "source": [
    "#### Conditional Selection\n",
    "The power of Pandas comes from being able to subset our data using Boolean expressions. This will allow us to answer interesting questions and perform operations on a subset of our data.\n",
    "\n",
    "There are two important difference between Boolean expressions in Pandas and those in the standard Python libraries. First, we will not be able to use the `and` and `or` Boolean operators because much of Pandas is built on libraries from the C programming language. Instead, we will use the `&` and `|` Boolean operators respectively. Second, we must enclose each Boolean expression in parenthesis when they are combined with a Boolean operator.\n",
    "\n",
    "Run the below code cell and note three things:\n",
    "* the values of the resulting Series\n",
    "* the length is the number of rows in the DataFrame\n",
    "* we often use the attribute to apply a Boolean expression to an entire column"
   ]
  },
  {
   "cell_type": "code",
   "execution_count": 18,
   "metadata": {
    "nbgrader": {
     "grade": false,
     "grade_id": "cell-5e79f6b405234b97",
     "locked": true,
     "schema_version": 3,
     "solution": false,
     "task": false
    }
   },
   "outputs": [
    {
     "data": {
      "text/plain": [
       "Id\n",
       "1          False\n",
       "2          False\n",
       "3          False\n",
       "4          False\n",
       "5          False\n",
       "           ...  \n",
       "1956183    False\n",
       "1956184    False\n",
       "1956185    False\n",
       "1956186    False\n",
       "1956187    False\n",
       "Name: Name, Length: 1956187, dtype: bool"
      ]
     },
     "execution_count": 18,
     "metadata": {},
     "output_type": "execute_result"
    }
   ],
   "source": [
    "names.Name == 'Mark'"
   ]
  },
  {
   "cell_type": "markdown",
   "metadata": {
    "nbgrader": {
     "grade": false,
     "grade_id": "cell-71c373ae7297be43",
     "locked": true,
     "schema_version": 3,
     "solution": false,
     "task": false
    }
   },
   "source": [
    "**Q2.4.** If we use this Boolean expression inside of the `.loc` operator, it will return only the rows where the Boolean expression is `True`. In the below code cell, output only those rows where the Name value is 'Mark'."
   ]
  },
  {
   "cell_type": "code",
   "execution_count": 19,
   "metadata": {
    "nbgrader": {
     "grade": false,
     "grade_id": "subset4",
     "locked": false,
     "schema_version": 3,
     "solution": true,
     "task": false
    }
   },
   "outputs": [
    {
     "data": {
      "text/html": [
       "<div>\n",
       "<style scoped>\n",
       "    .dataframe tbody tr th:only-of-type {\n",
       "        vertical-align: middle;\n",
       "    }\n",
       "\n",
       "    .dataframe tbody tr th {\n",
       "        vertical-align: top;\n",
       "    }\n",
       "\n",
       "    .dataframe thead th {\n",
       "        text-align: right;\n",
       "    }\n",
       "</style>\n",
       "<table border=\"1\" class=\"dataframe\">\n",
       "  <thead>\n",
       "    <tr style=\"text-align: right;\">\n",
       "      <th></th>\n",
       "      <th>Name</th>\n",
       "      <th>Year</th>\n",
       "      <th>Gender</th>\n",
       "      <th>Count</th>\n",
       "    </tr>\n",
       "    <tr>\n",
       "      <th>Id</th>\n",
       "      <th></th>\n",
       "      <th></th>\n",
       "      <th></th>\n",
       "      <th></th>\n",
       "    </tr>\n",
       "  </thead>\n",
       "  <tbody>\n",
       "    <tr>\n",
       "      <th>1102</th>\n",
       "      <td>Mark</td>\n",
       "      <td>1880</td>\n",
       "      <td>M</td>\n",
       "      <td>85</td>\n",
       "    </tr>\n",
       "    <tr>\n",
       "      <th>3067</th>\n",
       "      <td>Mark</td>\n",
       "      <td>1881</td>\n",
       "      <td>M</td>\n",
       "      <td>94</td>\n",
       "    </tr>\n",
       "    <tr>\n",
       "      <th>5117</th>\n",
       "      <td>Mark</td>\n",
       "      <td>1882</td>\n",
       "      <td>M</td>\n",
       "      <td>90</td>\n",
       "    </tr>\n",
       "    <tr>\n",
       "      <th>7258</th>\n",
       "      <td>Mark</td>\n",
       "      <td>1883</td>\n",
       "      <td>M</td>\n",
       "      <td>91</td>\n",
       "    </tr>\n",
       "    <tr>\n",
       "      <th>9462</th>\n",
       "      <td>Mark</td>\n",
       "      <td>1884</td>\n",
       "      <td>M</td>\n",
       "      <td>96</td>\n",
       "    </tr>\n",
       "    <tr>\n",
       "      <th>...</th>\n",
       "      <td>...</td>\n",
       "      <td>...</td>\n",
       "      <td>...</td>\n",
       "      <td>...</td>\n",
       "    </tr>\n",
       "    <tr>\n",
       "      <th>1811645</th>\n",
       "      <td>Mark</td>\n",
       "      <td>2014</td>\n",
       "      <td>M</td>\n",
       "      <td>2161</td>\n",
       "    </tr>\n",
       "    <tr>\n",
       "      <th>1844720</th>\n",
       "      <td>Mark</td>\n",
       "      <td>2015</td>\n",
       "      <td>M</td>\n",
       "      <td>2065</td>\n",
       "    </tr>\n",
       "    <tr>\n",
       "      <th>1877585</th>\n",
       "      <td>Mark</td>\n",
       "      <td>2016</td>\n",
       "      <td>M</td>\n",
       "      <td>2064</td>\n",
       "    </tr>\n",
       "    <tr>\n",
       "      <th>1910142</th>\n",
       "      <td>Mark</td>\n",
       "      <td>2017</td>\n",
       "      <td>M</td>\n",
       "      <td>1940</td>\n",
       "    </tr>\n",
       "    <tr>\n",
       "      <th>1942393</th>\n",
       "      <td>Mark</td>\n",
       "      <td>2018</td>\n",
       "      <td>M</td>\n",
       "      <td>1859</td>\n",
       "    </tr>\n",
       "  </tbody>\n",
       "</table>\n",
       "<p>244 rows × 4 columns</p>\n",
       "</div>"
      ],
      "text/plain": [
       "         Name  Year Gender  Count\n",
       "Id                               \n",
       "1102     Mark  1880      M     85\n",
       "3067     Mark  1881      M     94\n",
       "5117     Mark  1882      M     90\n",
       "7258     Mark  1883      M     91\n",
       "9462     Mark  1884      M     96\n",
       "...       ...   ...    ...    ...\n",
       "1811645  Mark  2014      M   2161\n",
       "1844720  Mark  2015      M   2065\n",
       "1877585  Mark  2016      M   2064\n",
       "1910142  Mark  2017      M   1940\n",
       "1942393  Mark  2018      M   1859\n",
       "\n",
       "[244 rows x 4 columns]"
      ]
     },
     "execution_count": 19,
     "metadata": {},
     "output_type": "execute_result"
    }
   ],
   "source": [
    "### BEGIN SOLUTION\n",
    "names.loc[names.Name == 'Mark']\n",
    "### END SOLUTION"
   ]
  },
  {
   "cell_type": "code",
   "execution_count": 20,
   "metadata": {
    "nbgrader": {
     "grade": true,
     "grade_id": "subset4_test",
     "locked": true,
     "points": 1,
     "schema_version": 3,
     "solution": false,
     "task": false
    }
   },
   "outputs": [],
   "source": [
    "# DO NOT EDIT - this cell is blank for autograding purposes\n",
    "### BEGIN HIDDEN TESTS\n",
    "pd.testing.assert_frame_equal(_, test_df.loc[names.Name == 'Mark'])\n",
    "### END HIDDEN TESTS"
   ]
  },
  {
   "cell_type": "markdown",
   "metadata": {
    "nbgrader": {
     "grade": false,
     "grade_id": "cell-17f051605b86ca8d",
     "locked": true,
     "schema_version": 3,
     "solution": false,
     "task": false
    }
   },
   "source": [
    "**Q2.5.** Now, let's visualize the trend of this name over time using either Seaborn, Pandas, or Maptplotlib directly. Remember, use `plt.show()` to only output the figure."
   ]
  },
  {
   "cell_type": "code",
   "execution_count": 21,
   "metadata": {
    "nbgrader": {
     "grade": true,
     "grade_id": "subset5",
     "locked": false,
     "points": 1,
     "schema_version": 3,
     "solution": true,
     "task": false
    }
   },
   "outputs": [
    {
     "data": {
      "image/png": "[encoded data removed]",
      "text/plain": [
       "<Figure size 432x288 with 1 Axes>"
      ]
     },
     "metadata": {
      "needs_background": "light"
     },
     "output_type": "display_data"
    }
   ],
   "source": [
    "### BEGIN SOLUTION\n",
    "# plt.plot(names.loc[names.Name == 'Mark', 'Year'], names.loc[names.Name == 'Mark', 'Count'])\n",
    "# names.loc[names.Name == 'Mark'].plot(kind='line', x='Year', y='Count')\n",
    "sns.lineplot(x=\"Year\", y='Count', data=names.loc[names.Name == 'Mark'])\n",
    "plt.show()\n",
    "### END SOLUTION"
   ]
  },
  {
   "cell_type": "markdown",
   "metadata": {
    "nbgrader": {
     "grade": false,
     "grade_id": "cell-5e6b156a2b56aa22",
     "locked": true,
     "schema_version": 3,
     "solution": false,
     "task": false
    }
   },
   "source": [
    "Why is there a band around the data? Seaborn, by default, will include error bounds when there are multiple values for each x-value. In this case, there was a period of time that girls were named 'Mark' as well as boys so there were two values for those years. You may have picked up on this by the number of rows in the earlier DataFrame, but visualizing the data helps illuminate subtle details that you may not have noticed otherwise.\n",
    "\n",
    "**Q2.6.** Again, plot the trend of the popularity of the name 'Mark' over time, but limit the results where Gender is male. Do not forget to include parenthesis."
   ]
  },
  {
   "cell_type": "code",
   "execution_count": 22,
   "metadata": {
    "nbgrader": {
     "grade": true,
     "grade_id": "subset6",
     "locked": false,
     "points": 1,
     "schema_version": 3,
     "solution": true,
     "task": false
    }
   },
   "outputs": [
    {
     "data": {
      "image/png": "[encoded data removed]",
      "text/plain": [
       "<Figure size 432x288 with 1 Axes>"
      ]
     },
     "metadata": {
      "needs_background": "light"
     },
     "output_type": "display_data"
    }
   ],
   "source": [
    "### BEGIN SOLUTION\n",
    "# names.loc[(names.Name == 'Mark') & (names.Gender == 'M')].plot(kind='line', x='Year', y='Count')\n",
    "sns.lineplot(x=\"Year\", y=\"Count\", data=names.loc[(names.Name == 'Mark') & (names.Gender == 'M')])\n",
    "plt.show()\n",
    "### END SOLUTION"
   ]
  },
  {
   "cell_type": "markdown",
   "metadata": {
    "nbgrader": {
     "grade": false,
     "grade_id": "cell-19ecd22f234f5b4c",
     "locked": true,
     "schema_version": 3,
     "solution": false,
     "task": false
    }
   },
   "source": [
    "### 3. What were the five most popular baby names in 2000?\n",
    "We will walk through a few steps in order to see what the most popular baby names around your era. In order to answer this question, we can break it down into a couple of steps:\n",
    "1. Subset the data to only the year 2000\n",
    "2. Sort the data on the Count column in descending order\n",
    "3. Access the first five rows\n",
    "\n",
    "**Q3.1.** Use a Boolean expression to subset the data to only the year 2000 and assign the resulting DataFrame to the variable `yob_2000`."
   ]
  },
  {
   "cell_type": "code",
   "execution_count": 23,
   "metadata": {
    "nbgrader": {
     "grade": false,
     "grade_id": "yob1",
     "locked": false,
     "schema_version": 3,
     "solution": true,
     "task": false
    }
   },
   "outputs": [
    {
     "data": {
      "text/html": [
       "<div>\n",
       "<style scoped>\n",
       "    .dataframe tbody tr th:only-of-type {\n",
       "        vertical-align: middle;\n",
       "    }\n",
       "\n",
       "    .dataframe tbody tr th {\n",
       "        vertical-align: top;\n",
       "    }\n",
       "\n",
       "    .dataframe thead th {\n",
       "        text-align: right;\n",
       "    }\n",
       "</style>\n",
       "<table border=\"1\" class=\"dataframe\">\n",
       "  <thead>\n",
       "    <tr style=\"text-align: right;\">\n",
       "      <th></th>\n",
       "      <th>Name</th>\n",
       "      <th>Year</th>\n",
       "      <th>Gender</th>\n",
       "      <th>Count</th>\n",
       "    </tr>\n",
       "    <tr>\n",
       "      <th>Id</th>\n",
       "      <th></th>\n",
       "      <th></th>\n",
       "      <th></th>\n",
       "      <th></th>\n",
       "    </tr>\n",
       "  </thead>\n",
       "  <tbody>\n",
       "    <tr>\n",
       "      <th>1332539</th>\n",
       "      <td>Emily</td>\n",
       "      <td>2000</td>\n",
       "      <td>F</td>\n",
       "      <td>25952</td>\n",
       "    </tr>\n",
       "    <tr>\n",
       "      <th>1332540</th>\n",
       "      <td>Hannah</td>\n",
       "      <td>2000</td>\n",
       "      <td>F</td>\n",
       "      <td>23073</td>\n",
       "    </tr>\n",
       "    <tr>\n",
       "      <th>1332541</th>\n",
       "      <td>Madison</td>\n",
       "      <td>2000</td>\n",
       "      <td>F</td>\n",
       "      <td>19967</td>\n",
       "    </tr>\n",
       "    <tr>\n",
       "      <th>1332542</th>\n",
       "      <td>Ashley</td>\n",
       "      <td>2000</td>\n",
       "      <td>F</td>\n",
       "      <td>17995</td>\n",
       "    </tr>\n",
       "    <tr>\n",
       "      <th>1332543</th>\n",
       "      <td>Sarah</td>\n",
       "      <td>2000</td>\n",
       "      <td>F</td>\n",
       "      <td>17687</td>\n",
       "    </tr>\n",
       "    <tr>\n",
       "      <th>...</th>\n",
       "      <td>...</td>\n",
       "      <td>...</td>\n",
       "      <td>...</td>\n",
       "      <td>...</td>\n",
       "    </tr>\n",
       "    <tr>\n",
       "      <th>1362297</th>\n",
       "      <td>Zeph</td>\n",
       "      <td>2000</td>\n",
       "      <td>M</td>\n",
       "      <td>5</td>\n",
       "    </tr>\n",
       "    <tr>\n",
       "      <th>1362298</th>\n",
       "      <td>Zeven</td>\n",
       "      <td>2000</td>\n",
       "      <td>M</td>\n",
       "      <td>5</td>\n",
       "    </tr>\n",
       "    <tr>\n",
       "      <th>1362299</th>\n",
       "      <td>Ziggy</td>\n",
       "      <td>2000</td>\n",
       "      <td>M</td>\n",
       "      <td>5</td>\n",
       "    </tr>\n",
       "    <tr>\n",
       "      <th>1362300</th>\n",
       "      <td>Zo</td>\n",
       "      <td>2000</td>\n",
       "      <td>M</td>\n",
       "      <td>5</td>\n",
       "    </tr>\n",
       "    <tr>\n",
       "      <th>1362301</th>\n",
       "      <td>Zyier</td>\n",
       "      <td>2000</td>\n",
       "      <td>M</td>\n",
       "      <td>5</td>\n",
       "    </tr>\n",
       "  </tbody>\n",
       "</table>\n",
       "<p>29763 rows × 4 columns</p>\n",
       "</div>"
      ],
      "text/plain": [
       "            Name  Year Gender  Count\n",
       "Id                                  \n",
       "1332539    Emily  2000      F  25952\n",
       "1332540   Hannah  2000      F  23073\n",
       "1332541  Madison  2000      F  19967\n",
       "1332542   Ashley  2000      F  17995\n",
       "1332543    Sarah  2000      F  17687\n",
       "...          ...   ...    ...    ...\n",
       "1362297     Zeph  2000      M      5\n",
       "1362298    Zeven  2000      M      5\n",
       "1362299    Ziggy  2000      M      5\n",
       "1362300       Zo  2000      M      5\n",
       "1362301    Zyier  2000      M      5\n",
       "\n",
       "[29763 rows x 4 columns]"
      ]
     },
     "execution_count": 23,
     "metadata": {},
     "output_type": "execute_result"
    }
   ],
   "source": [
    "### BEGIN SOLUTION\n",
    "yob_2000 = names.loc[names.Year == 2000]\n",
    "yob_2000\n",
    "### END SOLUTION"
   ]
  },
  {
   "cell_type": "code",
   "execution_count": 24,
   "metadata": {
    "nbgrader": {
     "grade": true,
     "grade_id": "yob1_test",
     "locked": true,
     "points": 1,
     "schema_version": 3,
     "solution": false,
     "task": false
    }
   },
   "outputs": [],
   "source": [
    "# DO NOT EDIT - this cell is blank for autograding purposes\n",
    "### BEGIN HIDDEN TESTS\n",
    "test_2000 = test_df.loc[test_df.Year == 2000]\n",
    "if yob_2000 is None:\n",
    "    raise NameError(\"Did not name your DataFrame correctly\")\n",
    "else:\n",
    "    pd.testing.assert_frame_equal(yob_2000, test_2000)\n",
    "### END HIDDEN TESTS"
   ]
  },
  {
   "cell_type": "markdown",
   "metadata": {
    "nbgrader": {
     "grade": false,
     "grade_id": "cell-ab72c195c683cfb8",
     "locked": true,
     "schema_version": 3,
     "solution": false,
     "task": false
    }
   },
   "source": [
    "**Q3.2.** Sort the data in descending order by the Count column and assign the result to a DataFrame named `yob_2000_sorted`."
   ]
  },
  {
   "cell_type": "code",
   "execution_count": 25,
   "metadata": {
    "nbgrader": {
     "grade": false,
     "grade_id": "yob2",
     "locked": false,
     "schema_version": 3,
     "solution": true,
     "task": false
    }
   },
   "outputs": [
    {
     "data": {
      "text/html": [
       "<div>\n",
       "<style scoped>\n",
       "    .dataframe tbody tr th:only-of-type {\n",
       "        vertical-align: middle;\n",
       "    }\n",
       "\n",
       "    .dataframe tbody tr th {\n",
       "        vertical-align: top;\n",
       "    }\n",
       "\n",
       "    .dataframe thead th {\n",
       "        text-align: right;\n",
       "    }\n",
       "</style>\n",
       "<table border=\"1\" class=\"dataframe\">\n",
       "  <thead>\n",
       "    <tr style=\"text-align: right;\">\n",
       "      <th></th>\n",
       "      <th>Name</th>\n",
       "      <th>Year</th>\n",
       "      <th>Gender</th>\n",
       "      <th>Count</th>\n",
       "    </tr>\n",
       "    <tr>\n",
       "      <th>Id</th>\n",
       "      <th></th>\n",
       "      <th></th>\n",
       "      <th></th>\n",
       "      <th></th>\n",
       "    </tr>\n",
       "  </thead>\n",
       "  <tbody>\n",
       "    <tr>\n",
       "      <th>1350191</th>\n",
       "      <td>Jacob</td>\n",
       "      <td>2000</td>\n",
       "      <td>M</td>\n",
       "      <td>34465</td>\n",
       "    </tr>\n",
       "    <tr>\n",
       "      <th>1350192</th>\n",
       "      <td>Michael</td>\n",
       "      <td>2000</td>\n",
       "      <td>M</td>\n",
       "      <td>32025</td>\n",
       "    </tr>\n",
       "    <tr>\n",
       "      <th>1350193</th>\n",
       "      <td>Matthew</td>\n",
       "      <td>2000</td>\n",
       "      <td>M</td>\n",
       "      <td>28569</td>\n",
       "    </tr>\n",
       "    <tr>\n",
       "      <th>1350194</th>\n",
       "      <td>Joshua</td>\n",
       "      <td>2000</td>\n",
       "      <td>M</td>\n",
       "      <td>27531</td>\n",
       "    </tr>\n",
       "    <tr>\n",
       "      <th>1332539</th>\n",
       "      <td>Emily</td>\n",
       "      <td>2000</td>\n",
       "      <td>F</td>\n",
       "      <td>25952</td>\n",
       "    </tr>\n",
       "    <tr>\n",
       "      <th>...</th>\n",
       "      <td>...</td>\n",
       "      <td>...</td>\n",
       "      <td>...</td>\n",
       "      <td>...</td>\n",
       "    </tr>\n",
       "    <tr>\n",
       "      <th>1348436</th>\n",
       "      <td>Guinnevere</td>\n",
       "      <td>2000</td>\n",
       "      <td>F</td>\n",
       "      <td>5</td>\n",
       "    </tr>\n",
       "    <tr>\n",
       "      <th>1348437</th>\n",
       "      <td>Guliana</td>\n",
       "      <td>2000</td>\n",
       "      <td>F</td>\n",
       "      <td>5</td>\n",
       "    </tr>\n",
       "    <tr>\n",
       "      <th>1348438</th>\n",
       "      <td>Gustavo</td>\n",
       "      <td>2000</td>\n",
       "      <td>F</td>\n",
       "      <td>5</td>\n",
       "    </tr>\n",
       "    <tr>\n",
       "      <th>1348439</th>\n",
       "      <td>Gwennyth</td>\n",
       "      <td>2000</td>\n",
       "      <td>F</td>\n",
       "      <td>5</td>\n",
       "    </tr>\n",
       "    <tr>\n",
       "      <th>1362301</th>\n",
       "      <td>Zyier</td>\n",
       "      <td>2000</td>\n",
       "      <td>M</td>\n",
       "      <td>5</td>\n",
       "    </tr>\n",
       "  </tbody>\n",
       "</table>\n",
       "<p>29763 rows × 4 columns</p>\n",
       "</div>"
      ],
      "text/plain": [
       "               Name  Year Gender  Count\n",
       "Id                                     \n",
       "1350191       Jacob  2000      M  34465\n",
       "1350192     Michael  2000      M  32025\n",
       "1350193     Matthew  2000      M  28569\n",
       "1350194      Joshua  2000      M  27531\n",
       "1332539       Emily  2000      F  25952\n",
       "...             ...   ...    ...    ...\n",
       "1348436  Guinnevere  2000      F      5\n",
       "1348437     Guliana  2000      F      5\n",
       "1348438     Gustavo  2000      F      5\n",
       "1348439    Gwennyth  2000      F      5\n",
       "1362301       Zyier  2000      M      5\n",
       "\n",
       "[29763 rows x 4 columns]"
      ]
     },
     "execution_count": 25,
     "metadata": {},
     "output_type": "execute_result"
    }
   ],
   "source": [
    "### BEGIN SOLUTION\n",
    "yob_2000_sorted = yob_2000.sort_values('Count', ascending=False)\n",
    "yob_2000_sorted\n",
    "### END SOLUTION"
   ]
  },
  {
   "cell_type": "code",
   "execution_count": 26,
   "metadata": {
    "nbgrader": {
     "grade": true,
     "grade_id": "yob2_test",
     "locked": true,
     "points": 1,
     "schema_version": 3,
     "solution": false,
     "task": false
    }
   },
   "outputs": [],
   "source": [
    "# DO NOT EDIT - this cell is blank for autograding purposes\n",
    "### BEGIN HIDDEN TESTS\n",
    "test_2000_sorted = test_2000.sort_values('Count', ascending=False)\n",
    "if yob_2000_sorted is None:\n",
    "    raise NameError(\"Did not name your DataFrame correctly\")\n",
    "else:\n",
    "    pd.testing.assert_frame_equal(yob_2000_sorted, test_2000_sorted)\n",
    "### END HIDDEN TESTS"
   ]
  },
  {
   "cell_type": "markdown",
   "metadata": {
    "nbgrader": {
     "grade": false,
     "grade_id": "cell-e2509a91df9db423",
     "locked": true,
     "schema_version": 3,
     "solution": false,
     "task": false
    }
   },
   "source": [
    "**Q3.3.** Use the `.iloc` operator to output a slice of the first five rows. In other words, do not use the `head` method even though it would be equivalent."
   ]
  },
  {
   "cell_type": "code",
   "execution_count": 27,
   "metadata": {
    "nbgrader": {
     "grade": false,
     "grade_id": "yob3",
     "locked": false,
     "schema_version": 3,
     "solution": true,
     "task": false
    }
   },
   "outputs": [
    {
     "data": {
      "text/html": [
       "<div>\n",
       "<style scoped>\n",
       "    .dataframe tbody tr th:only-of-type {\n",
       "        vertical-align: middle;\n",
       "    }\n",
       "\n",
       "    .dataframe tbody tr th {\n",
       "        vertical-align: top;\n",
       "    }\n",
       "\n",
       "    .dataframe thead th {\n",
       "        text-align: right;\n",
       "    }\n",
       "</style>\n",
       "<table border=\"1\" class=\"dataframe\">\n",
       "  <thead>\n",
       "    <tr style=\"text-align: right;\">\n",
       "      <th></th>\n",
       "      <th>Name</th>\n",
       "      <th>Year</th>\n",
       "      <th>Gender</th>\n",
       "      <th>Count</th>\n",
       "    </tr>\n",
       "    <tr>\n",
       "      <th>Id</th>\n",
       "      <th></th>\n",
       "      <th></th>\n",
       "      <th></th>\n",
       "      <th></th>\n",
       "    </tr>\n",
       "  </thead>\n",
       "  <tbody>\n",
       "    <tr>\n",
       "      <th>1350191</th>\n",
       "      <td>Jacob</td>\n",
       "      <td>2000</td>\n",
       "      <td>M</td>\n",
       "      <td>34465</td>\n",
       "    </tr>\n",
       "    <tr>\n",
       "      <th>1350192</th>\n",
       "      <td>Michael</td>\n",
       "      <td>2000</td>\n",
       "      <td>M</td>\n",
       "      <td>32025</td>\n",
       "    </tr>\n",
       "    <tr>\n",
       "      <th>1350193</th>\n",
       "      <td>Matthew</td>\n",
       "      <td>2000</td>\n",
       "      <td>M</td>\n",
       "      <td>28569</td>\n",
       "    </tr>\n",
       "    <tr>\n",
       "      <th>1350194</th>\n",
       "      <td>Joshua</td>\n",
       "      <td>2000</td>\n",
       "      <td>M</td>\n",
       "      <td>27531</td>\n",
       "    </tr>\n",
       "    <tr>\n",
       "      <th>1332539</th>\n",
       "      <td>Emily</td>\n",
       "      <td>2000</td>\n",
       "      <td>F</td>\n",
       "      <td>25952</td>\n",
       "    </tr>\n",
       "  </tbody>\n",
       "</table>\n",
       "</div>"
      ],
      "text/plain": [
       "            Name  Year Gender  Count\n",
       "Id                                  \n",
       "1350191    Jacob  2000      M  34465\n",
       "1350192  Michael  2000      M  32025\n",
       "1350193  Matthew  2000      M  28569\n",
       "1350194   Joshua  2000      M  27531\n",
       "1332539    Emily  2000      F  25952"
      ]
     },
     "execution_count": 27,
     "metadata": {},
     "output_type": "execute_result"
    }
   ],
   "source": [
    "### BEGIN SOLUTION\n",
    "yob_2000_sorted.iloc[:5]\n",
    "### END SOLUTION"
   ]
  },
  {
   "cell_type": "code",
   "execution_count": 28,
   "metadata": {
    "nbgrader": {
     "grade": true,
     "grade_id": "yob3_test",
     "locked": true,
     "points": 1,
     "schema_version": 3,
     "solution": false,
     "task": false
    }
   },
   "outputs": [],
   "source": [
    "# DO NOT EDIT - this cell is blank for autograding purposes\n",
    "### BEGIN HIDDEN TESTS\n",
    "pd.testing.assert_frame_equal(_, test_2000_sorted.iloc[:5])\n",
    "### END HIDDEN TESTS"
   ]
  },
  {
   "cell_type": "markdown",
   "metadata": {},
   "source": [
    "Was your name among the most popular? Sometimes it is more fun to look at the most unique names. What were the five most unique names? Continue to explore using indexing in Pandas to become more familiar. In the next two problems for this week, you will get practice at aggregating data and applying functions to Series and DataFrames to make new data."
   ]
  }
 ],
 "metadata": {
  "celltoolbar": "Create Assignment",
  "kernelspec": {
   "display_name": "Python 3",
   "language": "python",
   "name": "python3"
  },
  "language_info": {
   "codemirror_mode": {
    "name": "ipython",
    "version": 3
   },
   "file_extension": ".py",
   "mimetype": "text/x-python",
   "name": "python",
   "nbconvert_exporter": "python",
   "pygments_lexer": "ipython3",
   "version": "3.8.3"
  }
 },
 "nbformat": 4,
 "nbformat_minor": 4
}
