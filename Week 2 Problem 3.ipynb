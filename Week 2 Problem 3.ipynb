{
 "cells": [
  {
   "cell_type": "markdown",
   "metadata": {
    "nbgrader": {
     "grade": false,
     "grade_id": "cell-60c20cde68f43087",
     "locked": true,
     "schema_version": 3,
     "solution": false,
     "task": false
    }
   },
   "source": [
    "## Objectives\n",
    "1. Use string manipulation with Pandas objects\n",
    "2. Create new columns using elementwise arithmetic\n",
    "3. Distinguish the main difference between the Seaborn and Pandas wrappers for Matplotlib functionality\n",
    "\n",
    "## Exercises\n",
    "We will continue to use the Baby Names file to practice common data manipulation practices using Pandas. In this exercise, we will explore a single question:\n",
    "\n",
    "<p style=\"text-align:center\"><b>Can we use the last letter of a name to predict the gender of the baby?</b></p>"
   ]
  },
  {
   "cell_type": "markdown",
   "metadata": {
    "nbgrader": {
     "grade": false,
     "grade_id": "cell-e66a48962fd3d8fa",
     "locked": true,
     "schema_version": 3,
     "solution": false,
     "task": false
    }
   },
   "source": [
    "### Load the Libraries\n",
    "Run the following code cell to import each of the libraries that we will use in the lab."
   ]
  },
  {
   "cell_type": "code",
   "execution_count": null,
   "metadata": {},
   "outputs": [],
   "source": [
    "import pandas as pd\n",
    "import matplotlib.pyplot as plt\n",
    "import seaborn as sns"
   ]
  },
  {
   "cell_type": "markdown",
   "metadata": {
    "nbgrader": {
     "grade": false,
     "grade_id": "cell-96610863608dadce",
     "locked": true,
     "schema_version": 3,
     "solution": false,
     "task": false
    }
   },
   "source": [
    "**Q0.** Again, read the contents of the file to a DataFrame named `names`, use the Id column as the index, and inspect the first five rows."
   ]
  },
  {
   "cell_type": "code",
   "execution_count": null,
   "metadata": {
    "nbgrader": {
     "grade": false,
     "grade_id": "read",
     "locked": false,
     "schema_version": 3,
     "solution": true,
     "task": false
    }
   },
   "outputs": [],
   "source": [
    "### BEGIN SOLUTION\n",
    "names = pd.read_csv('babynames.csv', index_col=0)\n",
    "names.head()\n",
    "### END SOLUTION"
   ]
  },
  {
   "cell_type": "code",
   "execution_count": null,
   "metadata": {
    "nbgrader": {
     "grade": true,
     "grade_id": "read_test",
     "locked": true,
     "points": 1,
     "schema_version": 3,
     "solution": false,
     "task": false
    }
   },
   "outputs": [],
   "source": [
    "# DO NOT EDIT\n",
    "if names is None:\n",
    "    raise NameError(\"Did not name your DataFrame correctly\")\n",
    "### BEGIN HIDDEN TESTS\n",
    "test_df = pd.read_csv('babynames.csv', index_col = 0)\n",
    "pd.testing.assert_frame_equal(_, test_df.head())\n",
    "pd.testing.assert_frame_equal(names.tail(), test_df.tail())\n",
    "### END HIDDEN TESTS"
   ]
  },
  {
   "cell_type": "markdown",
   "metadata": {
    "nbgrader": {
     "grade": false,
     "grade_id": "cell-924b24dfc8f14faf",
     "locked": true,
     "schema_version": 3,
     "solution": false,
     "task": false
    }
   },
   "source": [
    "In order to answer this question, we can break the problem into the following steps:\n",
    "1. Compute the last letter of each name\n",
    "2. Group by the last letter and gender while aggregating (sum) the count\n",
    "3. Plot the total number of baby names ending in each character for each sex\n",
    "\n",
    "### 1. Working with Strings\n",
    "Computing the last letter of each name requires string manipulation. With a Python string, this would be done easily by accessing the last element of the string. As noted, Pandas stores non-numeric data as a generic object type. However, the Series object has a `str` attribute so that we can use string methods. Explore the [documentation](https://pandas.pydata.org/pandas-docs/stable/user_guide/text.html#string-methods) to better understand it and find a good example of its usage."
   ]
  },
  {
   "cell_type": "markdown",
   "metadata": {
    "nbgrader": {
     "grade": false,
     "grade_id": "cell-ec75c6e30b796bcc",
     "locked": true,
     "schema_version": 3,
     "solution": false,
     "task": false
    }
   },
   "source": [
    "**Q1.1.** Use the `str` attribute of the Name column to create a new column named `Last`. The values in this column should be the last character of the name."
   ]
  },
  {
   "cell_type": "code",
   "execution_count": null,
   "metadata": {
    "nbgrader": {
     "grade": false,
     "grade_id": "last1",
     "locked": false,
     "schema_version": 3,
     "solution": true,
     "task": false
    }
   },
   "outputs": [],
   "source": [
    "### BEGIN SOLUTION\n",
    "names['Last'] = names.Name.str[-1]\n",
    "### END SOLUTION"
   ]
  },
  {
   "cell_type": "code",
   "execution_count": null,
   "metadata": {
    "nbgrader": {
     "grade": true,
     "grade_id": "last1_test",
     "locked": true,
     "points": 1,
     "schema_version": 3,
     "solution": false,
     "task": false
    }
   },
   "outputs": [],
   "source": [
    "# DO NOT EDIT - this cell is blank for autograding purposes\n",
    "### BEGIN HIDDEN TESTS\n",
    "test_df['Last'] = test_df.Name.str[-1]\n",
    "pd.testing.assert_frame_equal(names.head(), test_df.head())\n",
    "pd.testing.assert_frame_equal(names.tail(), test_df.tail())\n",
    "### END HIDDEN TESTS"
   ]
  },
  {
   "cell_type": "markdown",
   "metadata": {
    "nbgrader": {
     "grade": false,
     "grade_id": "cell-d4756417cf62aa88",
     "locked": true,
     "schema_version": 3,
     "solution": false,
     "task": false
    }
   },
   "source": [
    "### 2. Group by Last and Gender While Aggregating Count\n",
    "**Q2.1.** Use the `groupby` method and an appropriate aggregation function to determine the total number of babies born with a given name ending in each letter. Assign the result to the variable `letters`. The first four values should look like:\n",
    "```\n",
    "Last  Gender\n",
    "E     F              181\n",
    "      M              256\n",
    "a     F         59369213\n",
    "      M          1992064\n",
    "```"
   ]
  },
  {
   "cell_type": "code",
   "execution_count": null,
   "metadata": {
    "nbgrader": {
     "grade": false,
     "grade_id": "group1",
     "locked": false,
     "schema_version": 3,
     "solution": true,
     "task": false
    }
   },
   "outputs": [],
   "source": [
    "### BEGIN SOLUTION\n",
    "letters = names.groupby(['Last', 'Gender']).Count.sum()\n",
    "letters\n",
    "### END SOLUTION"
   ]
  },
  {
   "cell_type": "code",
   "execution_count": null,
   "metadata": {
    "nbgrader": {
     "grade": true,
     "grade_id": "group1_test",
     "locked": true,
     "points": 1,
     "schema_version": 3,
     "solution": false,
     "task": false
    }
   },
   "outputs": [],
   "source": [
    "# DO NOT EDIT - this cell is blank for autograding purposes\n",
    "### BEGIN HIDDEN TESTS\n",
    "test_letters = test_df.groupby(['Last','Gender']).Count.sum()\n",
    "pd.testing.assert_series_equal(letters, test_letters)\n",
    "### END HIDDEN TESTS"
   ]
  },
  {
   "cell_type": "markdown",
   "metadata": {},
   "source": [
    "After inspecting the results, what may surprise you?\n",
    "\n",
    "There are a lot of babies born with a given name that ends in the capital letter E. Does this make sense? Let's investigate it.\n",
    "\n",
    "**Q2.2.** Output all observations where the name ends in a capital letter E."
   ]
  },
  {
   "cell_type": "code",
   "execution_count": null,
   "metadata": {
    "nbgrader": {
     "grade": false,
     "grade_id": "group2",
     "locked": false,
     "schema_version": 3,
     "solution": true,
     "task": false
    }
   },
   "outputs": [],
   "source": [
    "### BEGIN SOLUTION\n",
    "names.loc[names.Last == \"E\"]\n",
    "### END SOLUTION"
   ]
  },
  {
   "cell_type": "code",
   "execution_count": null,
   "metadata": {
    "nbgrader": {
     "grade": true,
     "grade_id": "group2_test",
     "locked": true,
     "points": 1,
     "schema_version": 3,
     "solution": false,
     "task": false
    }
   },
   "outputs": [],
   "source": [
    "# DO NOT EDIT - this cell is blank for autograding purposes\n",
    "### BEGIN HIDDEN TESTS\n",
    "pd.testing.assert_frame_equal(_, test_df.loc[test_df.Last == \"E\"])\n",
    "### END HIDDEN TESTS"
   ]
  },
  {
   "cell_type": "markdown",
   "metadata": {
    "nbgrader": {
     "grade": false,
     "grade_id": "cell-bc427b40aa3d57a3",
     "locked": true,
     "schema_version": 3,
     "solution": false,
     "task": false
    }
   },
   "source": [
    "In this case, Pandas is interpreting the name True as a Boolean value rather than a string (thanks a lot Kardashians). We can fix this behavior by specifying the `dtype` parameter when reading the CSV. For this problem, we will just convert all letters to lowercase.\n",
    "\n",
    "**Q2.3.** Again, use the `str` attribute of the Name column to create a new column named `Last`. The values in this column should be the last character of the name. However, chain the `lower` method to convert all letters to lowercase. *Hint, you need to use the `str` attribute twice.*"
   ]
  },
  {
   "cell_type": "code",
   "execution_count": null,
   "metadata": {
    "nbgrader": {
     "grade": false,
     "grade_id": "group3",
     "locked": false,
     "schema_version": 3,
     "solution": true,
     "task": false
    }
   },
   "outputs": [],
   "source": [
    "### BEGIN SOLUTION\n",
    "names['Last'] = names.Name.str[-1].str.lower()\n",
    "names.head()\n",
    "### END SOLUTION"
   ]
  },
  {
   "cell_type": "code",
   "execution_count": null,
   "metadata": {
    "nbgrader": {
     "grade": true,
     "grade_id": "group3_test",
     "locked": true,
     "points": 1,
     "schema_version": 3,
     "solution": false,
     "task": false
    }
   },
   "outputs": [],
   "source": [
    "# DO NOT EDIT - this cell is blank for autograding purposes\n",
    "### BEGIN HIDDEN TESTS\n",
    "test_df['Last'] = test_df.Name.str[-1].str.lower()\n",
    "pd.testing.assert_frame_equal(names.head(), test_df.head())\n",
    "pd.testing.assert_frame_equal(names.tail(), test_df.tail())\n",
    "### END HIDDEN TESTS"
   ]
  },
  {
   "cell_type": "markdown",
   "metadata": {
    "nbgrader": {
     "grade": false,
     "grade_id": "cell-41043daaac49c36e",
     "locked": true,
     "schema_version": 3,
     "solution": false,
     "task": false
    }
   },
   "source": [
    "**Q2.4.** Again, applying the same grouping and aggregation as in **Q2.1.** and assign the result to `letters`. Verify there are no entries with a capital letter E."
   ]
  },
  {
   "cell_type": "code",
   "execution_count": null,
   "metadata": {
    "nbgrader": {
     "grade": false,
     "grade_id": "group4",
     "locked": false,
     "schema_version": 3,
     "solution": true,
     "task": false
    }
   },
   "outputs": [],
   "source": [
    "### BEGIN SOLUTION\n",
    "letters = names.groupby(['Last', 'Gender']).Count.sum()\n",
    "letters\n",
    "### END SOLUTION"
   ]
  },
  {
   "cell_type": "code",
   "execution_count": null,
   "metadata": {
    "nbgrader": {
     "grade": true,
     "grade_id": "group4_test",
     "locked": true,
     "points": 1,
     "schema_version": 3,
     "solution": false,
     "task": false
    }
   },
   "outputs": [],
   "source": [
    "# DO NOT EDIT - this cell is blank for autograding purposes\n",
    "### BEGIN HIDDEN TESTS\n",
    "test_letters = test_df.groupby(['Last','Gender']).Count.sum()\n",
    "pd.testing.assert_series_equal(letters, test_letters)\n",
    "### END HIDDEN TESTS"
   ]
  },
  {
   "cell_type": "markdown",
   "metadata": {
    "nbgrader": {
     "grade": false,
     "grade_id": "cell-97e96de437168142",
     "locked": true,
     "schema_version": 3,
     "solution": false,
     "task": false
    }
   },
   "source": [
    "### 3. Plot the Results\n",
    "In the following two code cells, I plot this using Seaborn first and then Pandas second. Remember, `letters` is a Series object with a multi-index. Note the differences and explore the methods that I used to learn more."
   ]
  },
  {
   "cell_type": "code",
   "execution_count": null,
   "metadata": {
    "nbgrader": {
     "grade": false,
     "grade_id": "cell-0d83176240669942",
     "locked": true,
     "schema_version": 3,
     "solution": false,
     "task": false
    }
   },
   "outputs": [],
   "source": [
    "# Seaborn barplot and customizing the figure size for only this plot\n",
    "plt.figure(figsize=(15, 15))\n",
    "sns.barplot(x=letters, y=letters.index)\n",
    "plt.show()"
   ]
  },
  {
   "cell_type": "code",
   "execution_count": null,
   "metadata": {
    "nbgrader": {
     "grade": false,
     "grade_id": "cell-f0fa04ad8da3499c",
     "locked": true,
     "schema_version": 3,
     "solution": false,
     "task": false
    }
   },
   "outputs": [],
   "source": [
    "# Pandas wrapper to create a horizontal barplot and change the figure size\n",
    "letters.plot(kind='barh', figsize=(10, 10))\n",
    "plt.show()"
   ]
  },
  {
   "cell_type": "markdown",
   "metadata": {
    "nbgrader": {
     "grade": false,
     "grade_id": "cell-de1f5c59ca777bad",
     "locked": true,
     "schema_version": 3,
     "solution": false,
     "task": false
    }
   },
   "source": [
    "By default, Pandas will make the column(s) that were grouped as the index. This is not helpful because it is not obvious which bars are for which gender. Instead, we'd like to plot each gender a different color (map gender to the `hue` parameter similar to how we mapped the index to the `y` parameter), so we need the last letter and gender to be their own columns.\n",
    "\n",
    "**Q3.1.** Use the `reset_index` method to do this. This is a method for both Series and DataFrame objects. By default, it returns a new Series or DataFrame so you must assign the result to a variable. In this case, we no longer need this version of `letters` so we will assign the result to `letters`. *Note, it is good practice to output the result to make sure it is doing what you expect before assigning it to a variable.*"
   ]
  },
  {
   "cell_type": "code",
   "execution_count": null,
   "metadata": {
    "nbgrader": {
     "grade": false,
     "grade_id": "plot1",
     "locked": false,
     "schema_version": 3,
     "solution": true,
     "task": false
    }
   },
   "outputs": [],
   "source": [
    "### BEGIN SOLUTION\n",
    "letters = letters.reset_index()\n",
    "letters\n",
    "### END SOLUTION"
   ]
  },
  {
   "cell_type": "code",
   "execution_count": null,
   "metadata": {
    "nbgrader": {
     "grade": true,
     "grade_id": "plot1_test",
     "locked": true,
     "points": 1,
     "schema_version": 3,
     "solution": false,
     "task": false
    }
   },
   "outputs": [],
   "source": [
    "# DO NOT EDIT - this cell is blank for autograding purposes\n",
    "### BEGIN HIDDEN TESTS\n",
    "test_letters = test_letters.reset_index()\n",
    "pd.testing.assert_frame_equal(letters, test_letters)\n",
    "### END HIDDEN TESTS"
   ]
  },
  {
   "cell_type": "markdown",
   "metadata": {
    "nbgrader": {
     "grade": false,
     "grade_id": "cell-6f8f670220ce58e9",
     "locked": true,
     "schema_version": 3,
     "solution": false,
     "task": false
    }
   },
   "source": [
    "**Q3.2.** Now, we are able to map the color of each bar to the Gender column. In Seaborn, this is done with the `hue` parameter. Create the same barplot as above with the except the y-axis will only have letters and each letter will have two different bars for gender. *Note, I set my figure size to (15, 15)"
   ]
  },
  {
   "cell_type": "code",
   "execution_count": null,
   "metadata": {
    "nbgrader": {
     "grade": true,
     "grade_id": "plot2",
     "locked": false,
     "points": 1,
     "schema_version": 3,
     "solution": true,
     "task": false
    }
   },
   "outputs": [],
   "source": [
    "### BEGIN SOLUTION\n",
    "plt.figure(figsize=(15, 15))\n",
    "sns.barplot(x=\"Count\", y=\"Last\", hue=\"Gender\", data=letters)\n",
    "plt.show()\n",
    "### END SOLUTION"
   ]
  },
  {
   "cell_type": "markdown",
   "metadata": {
    "nbgrader": {
     "grade": false,
     "grade_id": "cell-e53c4c984fc1c2c8",
     "locked": true,
     "schema_version": 3,
     "solution": false,
     "task": false
    }
   },
   "source": [
    "To create this same plot using Pandas, we must pivot the data so that each gender is its own column because it plots one group of bars for each row and each bar a different color for each column (use the [documentation](https://pandas.pydata.org/pandas-docs/stable/user_guide/visualization.html) to verify this).\n",
    "\n",
    "**Q3.3.** Create a DataFrame named `letters_pivot` that has each letter as the index and each gender as its own column."
   ]
  },
  {
   "cell_type": "code",
   "execution_count": null,
   "metadata": {
    "nbgrader": {
     "grade": false,
     "grade_id": "plot3",
     "locked": false,
     "schema_version": 3,
     "solution": true,
     "task": false
    }
   },
   "outputs": [],
   "source": [
    "### BEGIN SOLUTION\n",
    "letters_pivot = letters.pivot(index='Last',\n",
    "                              columns='Gender',\n",
    "                              values='Count')\n",
    "letters_pivot\n",
    "### END SOLUTION"
   ]
  },
  {
   "cell_type": "code",
   "execution_count": null,
   "metadata": {
    "nbgrader": {
     "grade": true,
     "grade_id": "plot3_test",
     "locked": true,
     "points": 1,
     "schema_version": 3,
     "solution": false,
     "task": false
    }
   },
   "outputs": [],
   "source": [
    "# DO NOT EDIT - this cell is blank for autograding purposes\n",
    "### BEGIN HIDDEN TESTS\n",
    "test_pivot = test_letters.pivot(index='Last', columns='Gender', values='Count')\n",
    "pd.testing.assert_frame_equal(letters_pivot, test_pivot)\n",
    "### END HIDDEN TESTS"
   ]
  },
  {
   "cell_type": "markdown",
   "metadata": {},
   "source": [
    "**Q3.4.** Create the same plot using the Pandas wrapper for Matplotlib."
   ]
  },
  {
   "cell_type": "code",
   "execution_count": null,
   "metadata": {
    "nbgrader": {
     "grade": true,
     "grade_id": "plot4",
     "locked": false,
     "points": 1,
     "schema_version": 3,
     "solution": true,
     "task": false
    }
   },
   "outputs": [],
   "source": [
    "letters_pivot.plot(kind='barh', figsize=(10,10))\n",
    "plt.show()"
   ]
  },
  {
   "cell_type": "markdown",
   "metadata": {
    "nbgrader": {
     "grade": false,
     "grade_id": "cell-c79efbdde9d45ea1",
     "locked": true,
     "schema_version": 3,
     "solution": false,
     "task": false
    }
   },
   "source": [
    "This is helpful because we can now see the disparity in the size of the bars. The larger the difference, the easier it is to predict the gender on that letter. However, it is still hard to decipher for some letters because we are displaying the magnitude and some letters are much more frequent than others. As a result, it is hard to distinguish for the very small bars. \n",
    "\n",
    "### 4. Normalizing the Data\n",
    "A better way to communicate this data is to show the proportion of males to females for each letter. We can use the `letters_pivot` DataFrame to calculate the proportion of males with a name ending in a letter by dividing it by the total of males and females with names ending in that letter.\n",
    "1. Create a Series named `total` by calculating the total babies for each letter\n",
    "2. Create a new column named `Percent Males` by dividing `M` by `total`\n",
    "3. Create a new column named `Percent Females` by dividing `F` by `total`\n",
    "\n",
    "**Q4.1.** Create a Series named `total`. This can be done by applying the `sum` method to the DataFrame. This method requires you to pass an argument for the `axis` parameter which specifies whether to sum over the rows (\"columns\" and return a Series with the same number of rows) or to sum over the columns (\"index\" and return a Series with the same number of columns)."
   ]
  },
  {
   "cell_type": "code",
   "execution_count": null,
   "metadata": {
    "nbgrader": {
     "grade": false,
     "grade_id": "norm1",
     "locked": false,
     "schema_version": 3,
     "solution": true,
     "task": false
    }
   },
   "outputs": [],
   "source": [
    "### BEGIN SOLUTION\n",
    "total = letters_pivot.sum(axis=\"columns\")\n",
    "total\n",
    "### END SOLUTION"
   ]
  },
  {
   "cell_type": "code",
   "execution_count": null,
   "metadata": {
    "nbgrader": {
     "grade": true,
     "grade_id": "norm1_test",
     "locked": true,
     "points": 1,
     "schema_version": 3,
     "solution": false,
     "task": false
    }
   },
   "outputs": [],
   "source": [
    "# DO NOT EDIT - this cell is blank for autograding purposes\n",
    "### BEGIN HIDDEN TESTS\n",
    "test_total = test_pivot.sum(axis=\"columns\")\n",
    "pd.testing.assert_series_equal(total, test_total)\n",
    "### END HIDDEN TESTS"
   ]
  },
  {
   "cell_type": "markdown",
   "metadata": {
    "nbgrader": {
     "grade": false,
     "grade_id": "cell-e9823fdb62f16afd",
     "locked": true,
     "schema_version": 3,
     "solution": false,
     "task": false
    }
   },
   "source": [
    "**Q4.2.** Next, create the `Percent Males` and `Percent Females` columns in `letters_pivot`."
   ]
  },
  {
   "cell_type": "code",
   "execution_count": null,
   "metadata": {
    "nbgrader": {
     "grade": false,
     "grade_id": "norm2",
     "locked": false,
     "schema_version": 3,
     "solution": true,
     "task": false
    }
   },
   "outputs": [],
   "source": [
    "### BEGIN SOLUTION\n",
    "letters_pivot['Percent Males'] = letters_pivot.loc[:, 'M'] / total\n",
    "letters_pivot['Percent Females'] = letters_pivot.loc[:, 'F'] / total\n",
    "letters_pivot\n",
    "### END SOLUTION"
   ]
  },
  {
   "cell_type": "code",
   "execution_count": null,
   "metadata": {
    "nbgrader": {
     "grade": true,
     "grade_id": "norm2_test",
     "locked": true,
     "points": 1,
     "schema_version": 3,
     "solution": false,
     "task": false
    }
   },
   "outputs": [],
   "source": [
    "# DO NOT EDIT - this cell is blank for autograding purposes\n",
    "### BEGIN HIDDEN TESTS\n",
    "test_pivot['Percent Males'] = test_pivot.loc[:, 'M'] / test_total\n",
    "test_pivot['Percent Females'] = test_pivot.loc[:, 'F'] / test_total\n",
    "pd.testing.assert_frame_equal(letters_pivot, test_pivot)\n",
    "### END HIDDEN TESTS"
   ]
  },
  {
   "cell_type": "markdown",
   "metadata": {},
   "source": [
    "**Q4.3.** Finally, we can again create the same bar plot. This time, sort the DataFrame so that the disparity between genders is even more clear. You can use either the Pandas or Seaborn wrapper to Matplotlib, but Pandas is easiest in the current shape of our data. What would you need to do in order to use Seaborn like previously?"
   ]
  },
  {
   "cell_type": "code",
   "execution_count": null,
   "metadata": {
    "nbgrader": {
     "grade": true,
     "grade_id": "norm3",
     "locked": false,
     "points": 1,
     "schema_version": 3,
     "solution": true,
     "task": false
    }
   },
   "outputs": [],
   "source": [
    "### BEGIN SOLUTION\n",
    "letters_pivot.loc[:,['Percent Males', 'Percent Females']].sort_values('Percent Males').plot(kind='barh',stacked=True, figsize=(10,10))\n",
    "plt.show()\n",
    "### END SOLUTION"
   ]
  },
  {
   "cell_type": "markdown",
   "metadata": {
    "nbgrader": {
     "grade": false,
     "grade_id": "cell-a5813893aab17a46",
     "locked": true,
     "schema_version": 3,
     "solution": false,
     "task": false
    }
   },
   "source": [
    "In the Pandas wrapper for a bar plot, you can specify a Boolean argument for the `stacked` parameter. Instead, of plotting the bars clustered next to one another, it will stack them on top of each other. In this case, that is helpful because you can quickly see which letters transition near 0.5."
   ]
  },
  {
   "cell_type": "markdown",
   "metadata": {
    "nbgrader": {
     "grade": false,
     "grade_id": "cell-84811a8142c06933",
     "locked": true,
     "schema_version": 3,
     "solution": false,
     "task": false
    }
   },
   "source": [
    "However, Seaborn does not have that same parameter. Below is a combination of using Matplotlib's explicit creation of a `Figure` and `Axes` objects, implicitly using `plt` to handle the objects, and Seaborn. The figure that I used to reference is from Seaborn's gallery and it is linked [here](https://seaborn.pydata.org/examples/horizontal_barplot.html)."
   ]
  },
  {
   "cell_type": "code",
   "execution_count": null,
   "metadata": {
    "nbgrader": {
     "grade": false,
     "grade_id": "cell-aa94960b2933d895",
     "locked": true,
     "schema_version": 3,
     "solution": false,
     "task": false
    }
   },
   "outputs": [],
   "source": [
    "# Sort the data to make it is easier on the viewer\n",
    "letters_pivot = letters_pivot.sort_values(by='Percent Males')\n",
    "\n",
    "# Create the figure and axis objects\n",
    "fig, ax = plt.subplots(figsize=(15, 15))\n",
    "\n",
    "# set the style for the colors\n",
    "sns.set_color_codes('muted')\n",
    "\n",
    "# Calculate a total column (should be all 1)\n",
    "total = letters_pivot['Percent Males'] + letters_pivot['Percent Females']\n",
    "sns.barplot(x=total, y=letters_pivot.index, label='Female Proportion', color='orange')\n",
    "\n",
    "# Overlay the percent males so it appears as the proportions are stacked on top of each other\n",
    "sns.barplot(x=letters_pivot['Percent Males'], y=letters_pivot.index, label='Male Proportion', color='blue')\n",
    "\n",
    "# Add a vertical reference line to show the 50/50 mark\n",
    "plt.axvline(x = 0.5, color = 'black', linestyle='--')\n",
    "\n",
    "# add a legend and axes labels\n",
    "ax.legend()\n",
    "ax.set(xlabel=\"\", ylabel=\"Last Letter of First Name\")\n",
    "plt.show()"
   ]
  }
 ],
 "metadata": {
  "celltoolbar": "Create Assignment",
  "kernelspec": {
   "display_name": "Python 3",
   "language": "python",
   "name": "python3"
  },
  "language_info": {
   "codemirror_mode": {
    "name": "ipython",
    "version": 3
   },
   "file_extension": ".py",
   "mimetype": "text/x-python",
   "name": "python",
   "nbconvert_exporter": "python",
   "pygments_lexer": "ipython3",
   "version": "3.7.4"
  }
 },
 "nbformat": 4,
 "nbformat_minor": 4
}
