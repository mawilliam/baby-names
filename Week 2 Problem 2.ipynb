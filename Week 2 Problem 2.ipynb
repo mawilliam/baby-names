{
 "cells": [
  {
   "cell_type": "markdown",
   "metadata": {
    "nbgrader": {
     "grade": false,
     "grade_id": "cell-397fbe7de74b77d8",
     "locked": true,
     "schema_version": 3,
     "solution": false,
     "task": false
    }
   },
   "source": [
    "## Objectives\n",
    "1. Explain the split-apply-combine concept\n",
    "2. Use the `groupby` method to aggregate data by one or more columns\n",
    "3. Use `apply` to create new data by applying a function to all rows or columns\n",
    "4. Use `pivot_table` to simultaneous aggregate data and pivot one or more columns to a wide format\n",
    "\n",
    "## Exercises\n",
    "We will continue to use the Baby Names file to practice common data manipulation practices using Pandas. In this exercise, we will explore a single question:\n",
    "\n",
    "<p style=\"text-align:center\"><b>What were the most popular male and female names in each year?</b></p>"
   ]
  },
  {
   "cell_type": "markdown",
   "metadata": {
    "nbgrader": {
     "grade": false,
     "grade_id": "cell-86906bfada8061c7",
     "locked": true,
     "schema_version": 3,
     "solution": false,
     "task": false
    }
   },
   "source": [
    "### Load the Libraries\n",
    "Run the following code cell to import each of the libraries that we will use in the lab."
   ]
  },
  {
   "cell_type": "code",
   "execution_count": 1,
   "metadata": {},
   "outputs": [],
   "source": [
    "import pandas as pd\n",
    "import matplotlib.pyplot as plt\n",
    "import seaborn as sns"
   ]
  },
  {
   "cell_type": "markdown",
   "metadata": {
    "nbgrader": {
     "grade": false,
     "grade_id": "cell-96610863608dadce",
     "locked": true,
     "schema_version": 3,
     "solution": false,
     "task": false
    }
   },
   "source": [
    "**Q0.** Again, read the contents of the file to a DataFrame named `names`, use the Id column as the index, and inspect the first five rows."
   ]
  },
  {
   "cell_type": "code",
   "execution_count": 2,
   "metadata": {
    "nbgrader": {
     "grade": false,
     "grade_id": "read",
     "locked": false,
     "schema_version": 3,
     "solution": true,
     "task": false
    }
   },
   "outputs": [
    {
     "name": "stderr",
     "output_type": "stream",
     "text": [
      "C:\\Users\\DFCS-Dell1\\Anaconda3\\lib\\site-packages\\numpy\\lib\\arraysetops.py:569: FutureWarning: elementwise comparison failed; returning scalar instead, but in the future will perform elementwise comparison\n",
      "  mask |= (ar1 == a)\n"
     ]
    },
    {
     "data": {
      "text/html": [
       "<div>\n",
       "<style scoped>\n",
       "    .dataframe tbody tr th:only-of-type {\n",
       "        vertical-align: middle;\n",
       "    }\n",
       "\n",
       "    .dataframe tbody tr th {\n",
       "        vertical-align: top;\n",
       "    }\n",
       "\n",
       "    .dataframe thead th {\n",
       "        text-align: right;\n",
       "    }\n",
       "</style>\n",
       "<table border=\"1\" class=\"dataframe\">\n",
       "  <thead>\n",
       "    <tr style=\"text-align: right;\">\n",
       "      <th></th>\n",
       "      <th>Name</th>\n",
       "      <th>Year</th>\n",
       "      <th>Gender</th>\n",
       "      <th>Count</th>\n",
       "    </tr>\n",
       "    <tr>\n",
       "      <th>Id</th>\n",
       "      <th></th>\n",
       "      <th></th>\n",
       "      <th></th>\n",
       "      <th></th>\n",
       "    </tr>\n",
       "  </thead>\n",
       "  <tbody>\n",
       "    <tr>\n",
       "      <th>1</th>\n",
       "      <td>Mary</td>\n",
       "      <td>1880</td>\n",
       "      <td>F</td>\n",
       "      <td>7065</td>\n",
       "    </tr>\n",
       "    <tr>\n",
       "      <th>2</th>\n",
       "      <td>Anna</td>\n",
       "      <td>1880</td>\n",
       "      <td>F</td>\n",
       "      <td>2604</td>\n",
       "    </tr>\n",
       "    <tr>\n",
       "      <th>3</th>\n",
       "      <td>Emma</td>\n",
       "      <td>1880</td>\n",
       "      <td>F</td>\n",
       "      <td>2003</td>\n",
       "    </tr>\n",
       "    <tr>\n",
       "      <th>4</th>\n",
       "      <td>Elizabeth</td>\n",
       "      <td>1880</td>\n",
       "      <td>F</td>\n",
       "      <td>1939</td>\n",
       "    </tr>\n",
       "    <tr>\n",
       "      <th>5</th>\n",
       "      <td>Minnie</td>\n",
       "      <td>1880</td>\n",
       "      <td>F</td>\n",
       "      <td>1746</td>\n",
       "    </tr>\n",
       "  </tbody>\n",
       "</table>\n",
       "</div>"
      ],
      "text/plain": [
       "         Name  Year Gender  Count\n",
       "Id                               \n",
       "1        Mary  1880      F   7065\n",
       "2        Anna  1880      F   2604\n",
       "3        Emma  1880      F   2003\n",
       "4   Elizabeth  1880      F   1939\n",
       "5      Minnie  1880      F   1746"
      ]
     },
     "execution_count": 2,
     "metadata": {},
     "output_type": "execute_result"
    }
   ],
   "source": [
    "### BEGIN SOLUTION\n",
    "names = pd.read_csv('babynames.csv', index_col=0)\n",
    "names.head()\n",
    "### END SOLUTION"
   ]
  },
  {
   "cell_type": "code",
   "execution_count": 3,
   "metadata": {
    "nbgrader": {
     "grade": true,
     "grade_id": "read_test",
     "locked": true,
     "points": 1,
     "schema_version": 3,
     "solution": false,
     "task": false
    }
   },
   "outputs": [],
   "source": [
    "# DO NOT EDIT\n",
    "if names is None:\n",
    "    raise NameError(\"Did not name your DataFrame correctly\")\n",
    "### BEGIN HIDDEN TESTS\n",
    "test_df = pd.read_csv('babynames.csv', index_col = 0)\n",
    "pd.testing.assert_frame_equal(_, test_df.head())\n",
    "pd.testing.assert_frame_equal(names.tail(), test_df.tail())\n",
    "### END HIDDEN TESTS"
   ]
  },
  {
   "attachments": {
    "image.png": {
     "image/png": "[encoded data removed]"
    }
   },
   "cell_type": "markdown",
   "metadata": {
    "nbgrader": {
     "grade": false,
     "grade_id": "cell-91db0d32e9234684",
     "locked": true,
     "schema_version": 3,
     "solution": false,
     "task": false
    }
   },
   "source": [
    "In traditional Python programming, we would think about the problem in the following way:\n",
    "* Initialize two lists to contain each year's most popular name for each gender\n",
    "* Iterate over each year\n",
    "    * Initilize variables to track the most popular name and the value of Count\n",
    "    * Iterate over each name-count\n",
    "        * Update if the current count is higher than the current most popular\n",
    "\n",
    "With Pandas and NumPy, using elementwise operations is far more efficient than traditional loops. As a result, the problem becomes:\n",
    "* Group by Year and Gender\n",
    "* For each group, compute the most popular name\n",
    "* Combine the results\n",
    "\n",
    "In data manipulation, there is a paradigm to perform common data manipulation tasks when the data is tidy. It is the *split-apply-combine* method. In this example, we are going to split our DataFrame into many smaller ones (using `groupby`), next we apply a function to each grouping to create new data, and then we combine all of the results back into a single object to perform further computation. Pandas makes this method very easy to implement, but it can be difficult to visualize/comprehend. The rest of this exercise is meant to provide you some intuition with what is happening for each statement.\n",
    "\n",
    "### 1. Grouping\n",
    "In Pandas, we can group a DataFrame by one or more columns. This will split our DataFrame into many smaller ones where each of the smaller one has the same value for the column(s) we grouped on. Visually, this is what is happening:\n",
    "![image.png](attachment:image.png)"
   ]
  },
  {
   "cell_type": "markdown",
   "metadata": {
    "nbgrader": {
     "grade": false,
     "grade_id": "cell-ced974a100e50112",
     "locked": true,
     "schema_version": 3,
     "solution": false,
     "task": false
    }
   },
   "source": [
    "Using the `groupby` method by itself doesn't make much sense. In the below code cell, running the cell produces an output of a DataFrameGroupBy object:"
   ]
  },
  {
   "cell_type": "code",
   "execution_count": 4,
   "metadata": {
    "nbgrader": {
     "grade": false,
     "grade_id": "cell-7eb2f2d29cf9dc35",
     "locked": true,
     "schema_version": 3,
     "solution": false,
     "task": false
    }
   },
   "outputs": [
    {
     "data": {
      "text/plain": [
       "<pandas.core.groupby.generic.DataFrameGroupBy object at 0x0000029480004D88>"
      ]
     },
     "execution_count": 4,
     "metadata": {},
     "output_type": "execute_result"
    }
   ],
   "source": [
    "names.groupby('Year')"
   ]
  },
  {
   "attachments": {
    "image.png": {
     "image/png": "[encoded data removed]"
    }
   },
   "cell_type": "markdown",
   "metadata": {
    "nbgrader": {
     "grade": false,
     "grade_id": "cell-86f4cc0de87c9a23",
     "locked": true,
     "schema_version": 3,
     "solution": false,
     "task": false
    }
   },
   "source": [
    "Instead, we need to do the *apply-combine* portion in order to get meaningful results. The below depicts the entire *split-apply-combine* method.\n",
    "![image.png](attachment:image.png)\n",
    "\n",
    "Pandas automatically combines the results into a single object, so we can achieve those results by chaining two methods: `grades.groupby('Name').agg(len)`. It also automatically sets the index to be the column that you group on. Finally, without specifying a specific column to apply the aggregation function to, it defaults to all columns that are not in the grouping."
   ]
  },
  {
   "cell_type": "markdown",
   "metadata": {
    "nbgrader": {
     "grade": false,
     "grade_id": "cell-e111c42a21dae531",
     "locked": true,
     "schema_version": 3,
     "solution": false,
     "task": false
    }
   },
   "source": [
    "**Q1.1.** In the below code cell, replicate the example to determine the number of rows (observations) for each year in the dataset and output the results."
   ]
  },
  {
   "cell_type": "code",
   "execution_count": null,
   "metadata": {
    "nbgrader": {
     "grade": false,
     "grade_id": "groupby1",
     "locked": false,
     "schema_version": 3,
     "solution": true,
     "task": false
    }
   },
   "outputs": [],
   "source": [
    "### BEGIN SOLUTION\n",
    "names.groupby('Year').agg(len)\n",
    "### END SOLUTION"
   ]
  },
  {
   "cell_type": "code",
   "execution_count": null,
   "metadata": {
    "nbgrader": {
     "grade": true,
     "grade_id": "groupby1_test",
     "locked": true,
     "points": 1,
     "schema_version": 3,
     "solution": false,
     "task": false
    }
   },
   "outputs": [],
   "source": [
    "# DO NOT EDIT - this cell is blank for autograding purposes\n",
    "### BEGIN HIDDEN TESTS\n",
    "pd.testing.assert_frame_equal(_, test_df.groupby('Year').count())\n",
    "### END HIDDEN TESTS"
   ]
  },
  {
   "cell_type": "markdown",
   "metadata": {
    "nbgrader": {
     "grade": false,
     "grade_id": "cell-88129ad81d3fdf39",
     "locked": true,
     "schema_version": 3,
     "solution": false,
     "task": false
    }
   },
   "source": [
    "The `agg` method allows you to pass one or more aggregation functions to simultaneously apply to your data. Passing the `len` function as the argument is equivalent to directly applying the `count` method to the DataFrameGroupBy object.\n",
    "\n",
    "**Q1.2.** In this case, it doesn't really make sense to replicate the aggregation for each column. The column names, Count in particular, are misleading. This time, apply the `count` method to only the Name column and output the result."
   ]
  },
  {
   "cell_type": "code",
   "execution_count": null,
   "metadata": {
    "nbgrader": {
     "grade": false,
     "grade_id": "groupby2",
     "locked": false,
     "schema_version": 3,
     "solution": true,
     "task": false
    }
   },
   "outputs": [],
   "source": [
    "### BEGIN SOLUTION\n",
    "names.groupby('Year').Name.count()\n",
    "### END SOLUTION"
   ]
  },
  {
   "cell_type": "code",
   "execution_count": null,
   "metadata": {
    "nbgrader": {
     "grade": true,
     "grade_id": "groupby2_test",
     "locked": true,
     "points": 1,
     "schema_version": 3,
     "solution": false,
     "task": false
    }
   },
   "outputs": [],
   "source": [
    "# DO NOT EDIT - this cell is blank for autograding purposes\n",
    "### BEGIN HIDDEN TESTS\n",
    "pd.testing.assert_series_equal(_, test_df.groupby('Year').Name.count())\n",
    "### END HIDDEN TESTS"
   ]
  },
  {
   "cell_type": "markdown",
   "metadata": {
    "nbgrader": {
     "grade": false,
     "grade_id": "cell-36a2ffc384f24b43",
     "locked": true,
     "schema_version": 3,
     "solution": false,
     "task": false
    }
   },
   "source": [
    "This aggregation results in a Series because we slice the single column after grouping by Year, but before applying the aggregation function. If we sliced only the two columns we're interested in (Year and Name) before grouping by Year, we will get a different result.\n",
    "\n",
    "**Q1.3.** Apply the same grouping and aggregation, but slice the columns we're interested in before applying either method. Assign the result to `unique_names`. Inspect the result to determine the difference between the two approaches."
   ]
  },
  {
   "cell_type": "code",
   "execution_count": null,
   "metadata": {
    "nbgrader": {
     "grade": false,
     "grade_id": "groupby3",
     "locked": false,
     "schema_version": 3,
     "solution": true,
     "task": false
    }
   },
   "outputs": [],
   "source": [
    "### BEGIN SOLUTION\n",
    "unique_names = names.loc[:, ['Year', 'Count']].groupby('Year').count()\n",
    "unique_names\n",
    "### END SOLUTION"
   ]
  },
  {
   "cell_type": "code",
   "execution_count": null,
   "metadata": {
    "nbgrader": {
     "grade": true,
     "grade_id": "grouby3_test",
     "locked": true,
     "points": 1,
     "schema_version": 3,
     "solution": false,
     "task": false
    }
   },
   "outputs": [],
   "source": [
    "# DO NOT EDIT - this cell is blank for autograding purposes\n",
    "### BEGIN HIDDEN TESTS\n",
    "pd.testing.assert_frame_equal(unique_names, test_df.loc[:,['Year','Count']].groupby('Year').count())\n",
    "### END HIDDEN TESTS"
   ]
  },
  {
   "cell_type": "markdown",
   "metadata": {
    "nbgrader": {
     "grade": false,
     "grade_id": "cell-7d9ff1b08795d48e",
     "locked": true,
     "schema_version": 3,
     "solution": false,
     "task": false
    }
   },
   "source": [
    "As an aside, we can produce the same results by applying our own custom function:\n",
    "```\n",
    "def length(series):\n",
    "    '''returns the number of elements in the Series argument'''\n",
    "    return len(series)\n",
    "\n",
    "# apply the length function to each grouping & combine the results\n",
    "names.groupby('Year').apply(length)\n",
    "```\n",
    "\n",
    "For common aggregation functions, like counting the number of observations in a group, it is better to use the builtin Pandas methods because they are much more computationally efficient than using `apply`."
   ]
  },
  {
   "cell_type": "markdown",
   "metadata": {
    "nbgrader": {
     "grade": false,
     "grade_id": "cell-6b5e84ef18269583",
     "locked": true,
     "schema_version": 3,
     "solution": false,
     "task": false
    }
   },
   "source": [
    "We can also group by more than one column. To do so, we pass a list as the argument to `groupby`. \n",
    "\n",
    "**Q1.4.** Group by both Year and Gender and then aggregate by returning the maximum value for each remaining column and output the result."
   ]
  },
  {
   "cell_type": "code",
   "execution_count": null,
   "metadata": {
    "nbgrader": {
     "grade": false,
     "grade_id": "groupby4",
     "locked": false,
     "schema_version": 3,
     "solution": true,
     "task": false
    }
   },
   "outputs": [],
   "source": [
    "### BEGIN SOLUTION\n",
    "names.groupby(['Year', 'Gender']).agg(max)\n",
    "### END SOLUTION"
   ]
  },
  {
   "cell_type": "code",
   "execution_count": null,
   "metadata": {
    "nbgrader": {
     "grade": true,
     "grade_id": "groupby4_test",
     "locked": true,
     "points": 1,
     "schema_version": 3,
     "solution": false,
     "task": false
    }
   },
   "outputs": [],
   "source": [
    "# DO NOT EDIT - this cell is blank for autograding purposes\n",
    "### BEGIN HIDDEN TESTS\n",
    "pd.testing.assert_frame_equal(_, test_df.groupby(['Year', 'Gender']).agg(max))\n",
    "### END HIDDEN TESTS"
   ]
  },
  {
   "cell_type": "markdown",
   "metadata": {
    "nbgrader": {
     "grade": false,
     "grade_id": "cell-8cac31833e9b95e4",
     "locked": true,
     "schema_version": 3,
     "solution": false,
     "task": false
    }
   },
   "source": [
    "Does anything surprise you about the previous result? What column(s) is Pandas performing the aggregation?\n",
    "\n",
    "In this case, Pandas performs the aggregation on each column independently and then aggregates the results. It is not that there were 19,837 babies named Zzyzx in 2018. Instead, Zzyzx is the 'maximum' name for boys (remember how Python does string comparisons for > and <) in 2018 and there were 19,837 boys named the same thing in 2018, but we do not know what that name is from this result.\n",
    "\n",
    "**Q1.5.** Let's confirm this by subsetting our DataFrame to those where Name is Zzyzx and Year is 2018."
   ]
  },
  {
   "cell_type": "code",
   "execution_count": null,
   "metadata": {
    "nbgrader": {
     "grade": false,
     "grade_id": "groupby5",
     "locked": false,
     "schema_version": 3,
     "solution": true,
     "task": false
    }
   },
   "outputs": [],
   "source": [
    "### BEGIN SOLUTION\n",
    "names.loc[(names.Name == \"Zzyzx\") & (names.Year == 2018)]\n",
    "### END SOLUTION"
   ]
  },
  {
   "cell_type": "code",
   "execution_count": null,
   "metadata": {
    "nbgrader": {
     "grade": true,
     "grade_id": "groupby5_test",
     "locked": true,
     "points": 1,
     "schema_version": 3,
     "solution": false,
     "task": false
    }
   },
   "outputs": [],
   "source": [
    "# DO NOT EDIT - this cell is blank for autograding purposes\n",
    "### BEGIN HIDDEN TESTS\n",
    "pd.testing.assert_frame_equal(_, test_df.loc[(names.Name == \"Zzyzx\") & (names.Year == 2018)])\n",
    "### END HIDDEN TESTS"
   ]
  },
  {
   "cell_type": "markdown",
   "metadata": {
    "nbgrader": {
     "grade": false,
     "grade_id": "cell-f97af3f2aed15d81",
     "locked": true,
     "schema_version": 3,
     "solution": false,
     "task": false
    }
   },
   "source": [
    "Instead, we want to know the name associated with the maximum Count value. Unfortunately, there is not a builtin way to do this in Pandas.\n",
    "\n",
    "### 2. Defining a Custom Aggregation Function\n",
    "To answer this question, we will define our own aggregation function to apply to each grouping. For this function, we will take advantage that we can sort the data such that the most popular name will always be first.\n",
    "\n",
    "**Q2.1.** Even though it seems like our data is already sorted, we are going to explicitly do so in case there are anomalies. Sort the DataFrame in descending order by the Count column and assign the result to `names_sorted`."
   ]
  },
  {
   "cell_type": "code",
   "execution_count": null,
   "metadata": {
    "nbgrader": {
     "grade": false,
     "grade_id": "popular1",
     "locked": false,
     "schema_version": 3,
     "solution": true,
     "task": false
    }
   },
   "outputs": [],
   "source": [
    "### BEGIN SOLUTION\n",
    "names_sorted = names.sort_values('Count', ascending=False)\n",
    "names_sorted.head()\n",
    "### END SOLUTION"
   ]
  },
  {
   "cell_type": "code",
   "execution_count": null,
   "metadata": {
    "nbgrader": {
     "grade": true,
     "grade_id": "popular1_test",
     "locked": true,
     "points": 1,
     "schema_version": 3,
     "solution": false,
     "task": false
    }
   },
   "outputs": [],
   "source": [
    "# DO NOT EDIT - this cell is blank for autograding purposes\n",
    "### BEGIN HIDDEN TESTS\n",
    "test_sorted = test_df.sort_values('Count', ascending=False)\n",
    "pd.testing.assert_frame_equal(names_sorted.head(), test_sorted.head())\n",
    "### END HIDDEN TESTS"
   ]
  },
  {
   "cell_type": "markdown",
   "metadata": {
    "nbgrader": {
     "grade": false,
     "grade_id": "cell-020cd469f5087191",
     "locked": true,
     "schema_version": 3,
     "solution": false,
     "task": false
    }
   },
   "source": [
    "Now when we group our data, the most popular name will always be first. \n",
    "\n",
    "**Q2.2.** Define a function named `most_popular` that accepts a Series (from each grouping) and return the first value from the Series."
   ]
  },
  {
   "cell_type": "code",
   "execution_count": null,
   "metadata": {
    "nbgrader": {
     "grade": false,
     "grade_id": "popular2",
     "locked": false,
     "schema_version": 3,
     "solution": true,
     "task": false
    }
   },
   "outputs": [],
   "source": [
    "### BEGIN SOLUTION\n",
    "def most_popular(in_series):\n",
    "    return in_series.iloc[0]\n",
    "### END SOLUTION"
   ]
  },
  {
   "cell_type": "code",
   "execution_count": null,
   "metadata": {
    "nbgrader": {
     "grade": true,
     "grade_id": "popular2_test",
     "locked": true,
     "points": 1,
     "schema_version": 3,
     "solution": false,
     "task": false
    }
   },
   "outputs": [],
   "source": [
    "# You may run this cell to test your function on the below test case (there are additional hidden ones)\n",
    "assert most_popular(pd.Series([9, 5, 1])) == 9\n",
    "### BEGIN HIDDEN TESTS\n",
    "assert most_popular(pd.Series([1, 15, 10])) == 1\n",
    "### END HIDDEN TESTS"
   ]
  },
  {
   "cell_type": "markdown",
   "metadata": {
    "nbgrader": {
     "grade": false,
     "grade_id": "cell-a955e4b86212bb5a",
     "locked": true,
     "schema_version": 3,
     "solution": false,
     "task": false
    }
   },
   "source": [
    "**Q2.3.** Use the function you defined to aggregate the data to find the most popular names and the associated number of babies for each year and gender. Assign the result to `popular_names` and inspect the result."
   ]
  },
  {
   "cell_type": "code",
   "execution_count": null,
   "metadata": {
    "nbgrader": {
     "grade": false,
     "grade_id": "popular3",
     "locked": false,
     "schema_version": 3,
     "solution": true,
     "task": false
    }
   },
   "outputs": [],
   "source": [
    "### BEGIN SOLUTION\n",
    "popular_names = names_sorted.groupby(['Year', 'Gender']).agg(most_popular)\n",
    "popular_names\n",
    "### END SOLUTION"
   ]
  },
  {
   "cell_type": "code",
   "execution_count": null,
   "metadata": {
    "nbgrader": {
     "grade": true,
     "grade_id": "popular3_test",
     "locked": true,
     "points": 1,
     "schema_version": 3,
     "solution": false,
     "task": false
    }
   },
   "outputs": [],
   "source": [
    "# DO NOT EDIT - this cell is blank for autograding purposes\n",
    "### BEGIN HIDDEN TESTS\n",
    "def most_popular_test(in_series):\n",
    "    return in_series.iloc[0]\n",
    "\n",
    "pd.testing.assert_frame_equal(popular_names, test_sorted.groupby(['Year', 'Gender']).agg(most_popular_test))\n",
    "### END HIDDEN TESTS"
   ]
  },
  {
   "cell_type": "markdown",
   "metadata": {
    "nbgrader": {
     "grade": false,
     "grade_id": "cell-eb6a57d8a0efbc8a",
     "locked": true,
     "schema_version": 3,
     "solution": false,
     "task": false
    }
   },
   "source": [
    "This will return a DataFrame, but the index has more than one value. This is called a multi-index and are more challenging to deal with. Working with them is out of the scope of this class, but there are three common things to remember when working with these objects:\n",
    "1. You can still use the index position to access a slice: `popular_names.iloc[0:10:2]`\n",
    "2. You can access a single row with labels by using a tuple: `popular_names.loc[(1880, 'F')]`\n",
    "3. You can reset the index which whill make the current index labels their own columns and use row numbers as the new index: `popular_names.reset_index()`"
   ]
  },
  {
   "cell_type": "markdown",
   "metadata": {
    "nbgrader": {
     "grade": false,
     "grade_id": "cell-bf315318caa1997a",
     "locked": true,
     "schema_version": 3,
     "solution": false,
     "task": false
    }
   },
   "source": [
    "### 3. Pivoting\n",
    "The resulting DataFrame is a tidy dataset and it answers our question. However, there are times when an untidy dataset is required. FOr instance, it is sometimes more convenient to display the data in a more compact format. Or, the data may need to be formated in this manner to facilitate visualization (the Pandas `plot` wrapper is example).\n",
    "\n",
    "**Q3.1.** In the below code cell, use the `pivot_table` function (or method, there are both) to display only the most popular names for each year where the boys names are in one column and the girls names are in the other column."
   ]
  },
  {
   "cell_type": "code",
   "execution_count": null,
   "metadata": {
    "nbgrader": {
     "grade": false,
     "grade_id": "pivot1",
     "locked": false,
     "schema_version": 3,
     "solution": true,
     "task": false
    }
   },
   "outputs": [],
   "source": [
    "### BEGIN SOLUTION\n",
    "names.pivot_table(index='Year',\n",
    "                  columns='Gender',\n",
    "                  values='Name',\n",
    "                  aggfunc=most_popular)\n",
    "### END SOLUTION"
   ]
  },
  {
   "cell_type": "code",
   "execution_count": null,
   "metadata": {
    "nbgrader": {
     "grade": true,
     "grade_id": "cell-b8fc0f45f69660ff",
     "locked": true,
     "points": 1,
     "schema_version": 3,
     "solution": false,
     "task": false
    }
   },
   "outputs": [],
   "source": [
    "# DO NOT EDIT - this cell is blank for autograding purposes\n",
    "### BEGIN HIDDEN TESTS\n",
    "test_pivot = test_df.pivot_table(index='Year',\n",
    "                                 columns='Gender',\n",
    "                                 values='Name',\n",
    "                                 aggfunc=most_popular_test)\n",
    "pd.testing.assert_frame_equal(_, test_pivot)\n",
    "### END HIDDEN TESTS"
   ]
  },
  {
   "cell_type": "markdown",
   "metadata": {
    "nbgrader": {
     "grade": false,
     "grade_id": "cell-a56df46fa7a25b97",
     "locked": true,
     "schema_version": 3,
     "solution": false,
     "task": false
    }
   },
   "source": [
    "Note, this returns a DataFrame so you can use DataFrame methods on it or use it in functions that require DataFrames (like `sns.lineplot`)."
   ]
  },
  {
   "cell_type": "markdown",
   "metadata": {
    "nbgrader": {
     "grade": false,
     "grade_id": "cell-5bf5ba687cdf8574",
     "locked": true,
     "schema_version": 3,
     "solution": false,
     "task": false
    }
   },
   "source": [
    "### Optional. Plotting\n",
    "For more practice, plot the Count of the most popular name over time for each gender. Comparing the first few rows to the last few rows of `popular_names`, it seems that the most popular name almost tripled from 1880 to 2018. Is it true that the total number of babies born tripled over that time as well? Or, are parents choosing fewer unique names? A visualization will help answer these types of questions.\n",
    "\n",
    "Since the magnitude of the total number of babies born is much larger than the maximum Count value, it may make sense to plot these on different axes. Otherwise, one line may dominate the others. Creating multiple plots in the same figure is possible in Matplotlib, but you must explicitly define the figure and axes objects instead of letting `pyplot` handle them. Reference the Matplotlib documentation for the `subplots` function [here](https://matplotlib.org/3.2.1/api/_as_gen/matplotlib.pyplot.subplots.html). Below is an example to create a figure with two plots (one on top of the other)."
   ]
  },
  {
   "cell_type": "code",
   "execution_count": null,
   "metadata": {},
   "outputs": [],
   "source": [
    "fig, ax = plt.subplots(nrows=2, ncols=1)  # creates a a figure object and a list of axes objects\n",
    "\n",
    "sns.lineplot(x='Year', y='Count', data=names.loc[(names.Name == \"John\") & (names.Gender == 'M')], ax=ax[0])  # top plot\n",
    "sns.lineplot(x='Year', y='Count', data=names.loc[(names.Name == \"Mary\") & (names.Gender == 'F')], ax=ax[1])  # bottom plot\n",
    "\n",
    "plt.show()"
   ]
  }
 ],
 "metadata": {
  "celltoolbar": "Create Assignment",
  "kernelspec": {
   "display_name": "Python 3",
   "language": "python",
   "name": "python3"
  },
  "language_info": {
   "codemirror_mode": {
    "name": "ipython",
    "version": 3
   },
   "file_extension": ".py",
   "mimetype": "text/x-python",
   "name": "python",
   "nbconvert_exporter": "python",
   "pygments_lexer": "ipython3",
   "version": "3.7.4"
  }
 },
 "nbformat": 4,
 "nbformat_minor": 4
}
